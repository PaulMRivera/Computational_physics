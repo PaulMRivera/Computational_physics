{
  "nbformat": 4,
  "nbformat_minor": 0,
  "metadata": {
    "colab": {
      "name": "Actividad3.ipynb",
      "provenance": [],
      "authorship_tag": "ABX9TyMsvNjqhN0A1coRifB0dtpg",
      "include_colab_link": true
    },
    "kernelspec": {
      "name": "python3",
      "display_name": "Python 3"
    }
  },
  "cells": [
    {
      "cell_type": "markdown",
      "metadata": {
        "id": "view-in-github",
        "colab_type": "text"
      },
      "source": [
        "<a href=\"https://colab.research.google.com/github/PaulMRivera/Computational_physics/blob/master/Activity_3/Actividad3.ipynb\" target=\"_parent\"><img src=\"https://colab.research.google.com/assets/colab-badge.svg\" alt=\"Open In Colab\"/></a>"
      ]
    },
    {
      "cell_type": "markdown",
      "metadata": {
        "id": "m5TA1SRID4Ce"
      },
      "source": [
        "Paso 1"
      ]
    },
    {
      "cell_type": "code",
      "metadata": {
        "colab": {
          "base_uri": "https://localhost:8080/",
          "height": 419
        },
        "id": "WKNbb76V7pAq",
        "outputId": "ec330844-cd15-4e83-c4ac-fff18b6a3acf"
      },
      "source": [
        "# Bibliotecas utilizadas\r\n",
        "import pandas as pd\r\n",
        "import numpy as np\r\n",
        "\r\n",
        "# Tomar la dirección URL del archivo en formato 'raw'\r\n",
        "url = 'https://smn.conagua.gob.mx/tools/RESOURCES/Diarios/26071.txt'\r\n",
        "\r\n",
        "# Definimos los nombres de las columnas\r\n",
        "# El archivo tiene códigos ASCII extendido (Español), encoding='cp1251' Windows (Europa Occidental)\r\n",
        "# El separador de datos es de uno o más espacios, sep='\\s+'\r\n",
        "# Se brincará los primeros 19 renglones y el último, afirmamos que no nay encabezado\r\n",
        "# Se procesan los datos utilizando Python, engine='python' \r\n",
        "my_cols = ['Fecha', 'Precip(mm)', 'Evap(mm)', 'Tmax(°C)', 'Tmin(°C)']\r\n",
        "df_dist = pd.read_csv(url, names=my_cols, encoding='cp1251', sep='\\s+', header=None, skiprows=19, skipfooter=1, engine='python')\r\n",
        "df_dist"
      ],
      "execution_count": null,
      "outputs": [
        {
          "output_type": "execute_result",
          "data": {
            "text/html": [
              "<div>\n",
              "<style scoped>\n",
              "    .dataframe tbody tr th:only-of-type {\n",
              "        vertical-align: middle;\n",
              "    }\n",
              "\n",
              "    .dataframe tbody tr th {\n",
              "        vertical-align: top;\n",
              "    }\n",
              "\n",
              "    .dataframe thead th {\n",
              "        text-align: right;\n",
              "    }\n",
              "</style>\n",
              "<table border=\"1\" class=\"dataframe\">\n",
              "  <thead>\n",
              "    <tr style=\"text-align: right;\">\n",
              "      <th></th>\n",
              "      <th>Fecha</th>\n",
              "      <th>Precip(mm)</th>\n",
              "      <th>Evap(mm)</th>\n",
              "      <th>Tmax(°C)</th>\n",
              "      <th>Tmin(°C)</th>\n",
              "    </tr>\n",
              "  </thead>\n",
              "  <tbody>\n",
              "    <tr>\n",
              "      <th>0</th>\n",
              "      <td>05/11/1960</td>\n",
              "      <td>0</td>\n",
              "      <td>Nulo</td>\n",
              "      <td>30</td>\n",
              "      <td>Nulo</td>\n",
              "    </tr>\n",
              "    <tr>\n",
              "      <th>1</th>\n",
              "      <td>06/11/1960</td>\n",
              "      <td>0</td>\n",
              "      <td>3.1</td>\n",
              "      <td>32</td>\n",
              "      <td>18</td>\n",
              "    </tr>\n",
              "    <tr>\n",
              "      <th>2</th>\n",
              "      <td>07/11/1960</td>\n",
              "      <td>0</td>\n",
              "      <td>6.8</td>\n",
              "      <td>25</td>\n",
              "      <td>15</td>\n",
              "    </tr>\n",
              "    <tr>\n",
              "      <th>3</th>\n",
              "      <td>08/11/1960</td>\n",
              "      <td>0</td>\n",
              "      <td>3.4</td>\n",
              "      <td>25</td>\n",
              "      <td>10</td>\n",
              "    </tr>\n",
              "    <tr>\n",
              "      <th>4</th>\n",
              "      <td>09/11/1960</td>\n",
              "      <td>0</td>\n",
              "      <td>5.7</td>\n",
              "      <td>25</td>\n",
              "      <td>10</td>\n",
              "    </tr>\n",
              "    <tr>\n",
              "      <th>...</th>\n",
              "      <td>...</td>\n",
              "      <td>...</td>\n",
              "      <td>...</td>\n",
              "      <td>...</td>\n",
              "      <td>...</td>\n",
              "    </tr>\n",
              "    <tr>\n",
              "      <th>14634</th>\n",
              "      <td>27/08/2008</td>\n",
              "      <td>0</td>\n",
              "      <td>Nulo</td>\n",
              "      <td>34</td>\n",
              "      <td>25</td>\n",
              "    </tr>\n",
              "    <tr>\n",
              "      <th>14635</th>\n",
              "      <td>28/08/2008</td>\n",
              "      <td>0</td>\n",
              "      <td>Nulo</td>\n",
              "      <td>34.5</td>\n",
              "      <td>26</td>\n",
              "    </tr>\n",
              "    <tr>\n",
              "      <th>14636</th>\n",
              "      <td>29/08/2008</td>\n",
              "      <td>0</td>\n",
              "      <td>Nulo</td>\n",
              "      <td>35</td>\n",
              "      <td>26.5</td>\n",
              "    </tr>\n",
              "    <tr>\n",
              "      <th>14637</th>\n",
              "      <td>30/08/2008</td>\n",
              "      <td>0</td>\n",
              "      <td>Nulo</td>\n",
              "      <td>34.5</td>\n",
              "      <td>25.5</td>\n",
              "    </tr>\n",
              "    <tr>\n",
              "      <th>14638</th>\n",
              "      <td>31/08/2008</td>\n",
              "      <td>0</td>\n",
              "      <td>Nulo</td>\n",
              "      <td>35</td>\n",
              "      <td>26</td>\n",
              "    </tr>\n",
              "  </tbody>\n",
              "</table>\n",
              "<p>14639 rows × 5 columns</p>\n",
              "</div>"
            ],
            "text/plain": [
              "            Fecha Precip(mm) Evap(mm) Tmax(°C) Tmin(°C)\n",
              "0      05/11/1960          0     Nulo       30     Nulo\n",
              "1      06/11/1960          0      3.1       32       18\n",
              "2      07/11/1960          0      6.8       25       15\n",
              "3      08/11/1960          0      3.4       25       10\n",
              "4      09/11/1960          0      5.7       25       10\n",
              "...           ...        ...      ...      ...      ...\n",
              "14634  27/08/2008          0     Nulo       34       25\n",
              "14635  28/08/2008          0     Nulo     34.5       26\n",
              "14636  29/08/2008          0     Nulo       35     26.5\n",
              "14637  30/08/2008          0     Nulo     34.5     25.5\n",
              "14638  31/08/2008          0     Nulo       35       26\n",
              "\n",
              "[14639 rows x 5 columns]"
            ]
          },
          "metadata": {
            "tags": []
          },
          "execution_count": 6
        }
      ]
    },
    {
      "cell_type": "markdown",
      "metadata": {
        "id": "rUaSjwHbDy6S"
      },
      "source": [
        "Paso 2"
      ]
    },
    {
      "cell_type": "code",
      "metadata": {
        "colab": {
          "base_uri": "https://localhost:8080/"
        },
        "id": "uraU7yeRCKGB",
        "outputId": "55ce13cd-ccdc-48ba-9022-8644d0560beb"
      },
      "source": [
        "#Imprimir los primeros (head) y ultimos (tail) 3 valores del DataFrame (DF) \r\n",
        "print(df_dist.head(3))\r\n",
        "print(df_dist.tail(3))"
      ],
      "execution_count": null,
      "outputs": [
        {
          "output_type": "stream",
          "text": [
            "        Fecha  Precip(mm)  Evap(mm)  Tmax(°C)  Tmin(°C)\n",
            "0  05/11/1960         0.0       NaN      30.0       NaN\n",
            "1  06/11/1960         0.0       3.1      32.0      18.0\n",
            "2  07/11/1960         0.0       6.8      25.0      15.0\n",
            "            Fecha  Precip(mm)  Evap(mm)  Tmax(°C)  Tmin(°C)\n",
            "14636  29/08/2008         0.0       NaN      35.0      26.5\n",
            "14637  30/08/2008         0.0       NaN      34.5      25.5\n",
            "14638  31/08/2008         0.0       NaN      35.0      26.0\n"
          ],
          "name": "stdout"
        }
      ]
    },
    {
      "cell_type": "markdown",
      "metadata": {
        "id": "lzavmLeQD90C"
      },
      "source": [
        "Paso 3"
      ]
    },
    {
      "cell_type": "code",
      "metadata": {
        "colab": {
          "base_uri": "https://localhost:8080/"
        },
        "id": "n3s0zonxD9Yc",
        "outputId": "4c018a2f-1121-4bff-ce20-5ecf71b94507"
      },
      "source": [
        "#Mostrar los primeros (head) y ultimos (tail) 10 valores del DataFrame  \r\n",
        "print(df_dist.head(10))\r\n",
        "print(df_dist.tail(10))"
      ],
      "execution_count": null,
      "outputs": [
        {
          "output_type": "stream",
          "text": [
            "        Fecha Precip(mm) Evap(mm) Tmax(°C) Tmin(°C)\n",
            "0  05/11/1960          0     Nulo       30     Nulo\n",
            "1  06/11/1960          0      3.1       32       18\n",
            "2  07/11/1960          0      6.8       25       15\n",
            "3  08/11/1960          0      3.4       25       10\n",
            "4  09/11/1960          0      5.7       25       10\n",
            "5  10/11/1960          0        4       25        9\n",
            "6  11/11/1960          0      5.2       26       11\n",
            "7  12/11/1960          0      5.8       23       11\n",
            "8  13/11/1960          0      2.2       23       13\n",
            "9  14/11/1960          0      4.6       23        9\n",
            "            Fecha Precip(mm) Evap(mm) Tmax(°C) Tmin(°C)\n",
            "14629  22/08/2008          0     Nulo     34.5     27.5\n",
            "14630  23/08/2008          0     Nulo       35       26\n",
            "14631  24/08/2008       15.5     Nulo     35.5     26.5\n",
            "14632  25/08/2008          0     Nulo     34.5     22.5\n",
            "14633  26/08/2008          0     Nulo     33.5     25.5\n",
            "14634  27/08/2008          0     Nulo       34       25\n",
            "14635  28/08/2008          0     Nulo     34.5       26\n",
            "14636  29/08/2008          0     Nulo       35     26.5\n",
            "14637  30/08/2008          0     Nulo     34.5     25.5\n",
            "14638  31/08/2008          0     Nulo       35       26\n"
          ],
          "name": "stdout"
        }
      ]
    },
    {
      "cell_type": "code",
      "metadata": {
        "colab": {
          "base_uri": "https://localhost:8080/"
        },
        "id": "1zPjwzzyEPvM",
        "outputId": "915893a2-d1c8-4977-a357-23377757d86b"
      },
      "source": [
        "#Mostrar las dimenciones del DataFrame, formato (renglones, columnas) \r\n",
        "df_dist.shape"
      ],
      "execution_count": null,
      "outputs": [
        {
          "output_type": "execute_result",
          "data": {
            "text/plain": [
              "(14639, 5)"
            ]
          },
          "metadata": {
            "tags": []
          },
          "execution_count": 14
        }
      ]
    },
    {
      "cell_type": "code",
      "metadata": {
        "colab": {
          "base_uri": "https://localhost:8080/"
        },
        "id": "i28Y2k2lEh1Q",
        "outputId": "43fe66ed-24ec-40a0-fcce-3bd76b114985"
      },
      "source": [
        "#Mostrar informacion del DataFrame segregado por cada columna \r\n",
        "df_dist.info()"
      ],
      "execution_count": null,
      "outputs": [
        {
          "output_type": "stream",
          "text": [
            "<class 'pandas.core.frame.DataFrame'>\n",
            "RangeIndex: 14639 entries, 0 to 14638\n",
            "Data columns (total 5 columns):\n",
            " #   Column      Non-Null Count  Dtype \n",
            "---  ------      --------------  ----- \n",
            " 0   Fecha       14639 non-null  object\n",
            " 1   Precip(mm)  14639 non-null  object\n",
            " 2   Evap(mm)    14639 non-null  object\n",
            " 3   Tmax(°C)    14639 non-null  object\n",
            " 4   Tmin(°C)    14639 non-null  object\n",
            "dtypes: object(5)\n",
            "memory usage: 572.0+ KB\n"
          ],
          "name": "stdout"
        }
      ]
    },
    {
      "cell_type": "code",
      "metadata": {
        "colab": {
          "base_uri": "https://localhost:8080/",
          "height": 419
        },
        "id": "0B0FhpZgEnbs",
        "outputId": "3c9ebe71-81a0-4b1b-a28b-81edcf305957"
      },
      "source": [
        "#Cambiar los valores \"Nulo\" por un campo vacio\r\n",
        "df_dist = df_dist.replace(to_replace='Nulo', value='', regex=True)\r\n",
        "df_dist"
      ],
      "execution_count": null,
      "outputs": [
        {
          "output_type": "execute_result",
          "data": {
            "text/html": [
              "<div>\n",
              "<style scoped>\n",
              "    .dataframe tbody tr th:only-of-type {\n",
              "        vertical-align: middle;\n",
              "    }\n",
              "\n",
              "    .dataframe tbody tr th {\n",
              "        vertical-align: top;\n",
              "    }\n",
              "\n",
              "    .dataframe thead th {\n",
              "        text-align: right;\n",
              "    }\n",
              "</style>\n",
              "<table border=\"1\" class=\"dataframe\">\n",
              "  <thead>\n",
              "    <tr style=\"text-align: right;\">\n",
              "      <th></th>\n",
              "      <th>Fecha</th>\n",
              "      <th>Precip(mm)</th>\n",
              "      <th>Evap(mm)</th>\n",
              "      <th>Tmax(°C)</th>\n",
              "      <th>Tmin(°C)</th>\n",
              "    </tr>\n",
              "  </thead>\n",
              "  <tbody>\n",
              "    <tr>\n",
              "      <th>0</th>\n",
              "      <td>05/11/1960</td>\n",
              "      <td>0.0</td>\n",
              "      <td>NaN</td>\n",
              "      <td>30.0</td>\n",
              "      <td>NaN</td>\n",
              "    </tr>\n",
              "    <tr>\n",
              "      <th>1</th>\n",
              "      <td>06/11/1960</td>\n",
              "      <td>0.0</td>\n",
              "      <td>3.1</td>\n",
              "      <td>32.0</td>\n",
              "      <td>18.0</td>\n",
              "    </tr>\n",
              "    <tr>\n",
              "      <th>2</th>\n",
              "      <td>07/11/1960</td>\n",
              "      <td>0.0</td>\n",
              "      <td>6.8</td>\n",
              "      <td>25.0</td>\n",
              "      <td>15.0</td>\n",
              "    </tr>\n",
              "    <tr>\n",
              "      <th>3</th>\n",
              "      <td>08/11/1960</td>\n",
              "      <td>0.0</td>\n",
              "      <td>3.4</td>\n",
              "      <td>25.0</td>\n",
              "      <td>10.0</td>\n",
              "    </tr>\n",
              "    <tr>\n",
              "      <th>4</th>\n",
              "      <td>09/11/1960</td>\n",
              "      <td>0.0</td>\n",
              "      <td>5.7</td>\n",
              "      <td>25.0</td>\n",
              "      <td>10.0</td>\n",
              "    </tr>\n",
              "    <tr>\n",
              "      <th>...</th>\n",
              "      <td>...</td>\n",
              "      <td>...</td>\n",
              "      <td>...</td>\n",
              "      <td>...</td>\n",
              "      <td>...</td>\n",
              "    </tr>\n",
              "    <tr>\n",
              "      <th>14634</th>\n",
              "      <td>27/08/2008</td>\n",
              "      <td>0.0</td>\n",
              "      <td>NaN</td>\n",
              "      <td>34.0</td>\n",
              "      <td>25.0</td>\n",
              "    </tr>\n",
              "    <tr>\n",
              "      <th>14635</th>\n",
              "      <td>28/08/2008</td>\n",
              "      <td>0.0</td>\n",
              "      <td>NaN</td>\n",
              "      <td>34.5</td>\n",
              "      <td>26.0</td>\n",
              "    </tr>\n",
              "    <tr>\n",
              "      <th>14636</th>\n",
              "      <td>29/08/2008</td>\n",
              "      <td>0.0</td>\n",
              "      <td>NaN</td>\n",
              "      <td>35.0</td>\n",
              "      <td>26.5</td>\n",
              "    </tr>\n",
              "    <tr>\n",
              "      <th>14637</th>\n",
              "      <td>30/08/2008</td>\n",
              "      <td>0.0</td>\n",
              "      <td>NaN</td>\n",
              "      <td>34.5</td>\n",
              "      <td>25.5</td>\n",
              "    </tr>\n",
              "    <tr>\n",
              "      <th>14638</th>\n",
              "      <td>31/08/2008</td>\n",
              "      <td>0.0</td>\n",
              "      <td>NaN</td>\n",
              "      <td>35.0</td>\n",
              "      <td>26.0</td>\n",
              "    </tr>\n",
              "  </tbody>\n",
              "</table>\n",
              "<p>14639 rows × 5 columns</p>\n",
              "</div>"
            ],
            "text/plain": [
              "            Fecha  Precip(mm)  Evap(mm)  Tmax(°C)  Tmin(°C)\n",
              "0      05/11/1960         0.0       NaN      30.0       NaN\n",
              "1      06/11/1960         0.0       3.1      32.0      18.0\n",
              "2      07/11/1960         0.0       6.8      25.0      15.0\n",
              "3      08/11/1960         0.0       3.4      25.0      10.0\n",
              "4      09/11/1960         0.0       5.7      25.0      10.0\n",
              "...           ...         ...       ...       ...       ...\n",
              "14634  27/08/2008         0.0       NaN      34.0      25.0\n",
              "14635  28/08/2008         0.0       NaN      34.5      26.0\n",
              "14636  29/08/2008         0.0       NaN      35.0      26.5\n",
              "14637  30/08/2008         0.0       NaN      34.5      25.5\n",
              "14638  31/08/2008         0.0       NaN      35.0      26.0\n",
              "\n",
              "[14639 rows x 5 columns]"
            ]
          },
          "metadata": {
            "tags": []
          },
          "execution_count": 27
        }
      ]
    },
    {
      "cell_type": "code",
      "metadata": {
        "colab": {
          "base_uri": "https://localhost:8080/"
        },
        "id": "AW6-pN3jFTC8",
        "outputId": "dba70e6b-d27d-44ca-f3e2-b9c4fe3791f9"
      },
      "source": [
        "#Convertir los valores de las distintas variables a números flotantes flotantes \r\n",
        "cols_list = ['Precip(mm)', 'Evap(mm)', 'Tmax(°C)', 'Tmin(°C)']\r\n",
        "for cols in cols_list:\r\n",
        "  df_dist[cols] = pd.to_numeric(df_dist[cols], errors='coerce')\r\n",
        "\r\n",
        "df_dist.info()"
      ],
      "execution_count": null,
      "outputs": [
        {
          "output_type": "stream",
          "text": [
            "<class 'pandas.core.frame.DataFrame'>\n",
            "RangeIndex: 14639 entries, 0 to 14638\n",
            "Data columns (total 5 columns):\n",
            " #   Column      Non-Null Count  Dtype  \n",
            "---  ------      --------------  -----  \n",
            " 0   Fecha       14639 non-null  object \n",
            " 1   Precip(mm)  14521 non-null  float64\n",
            " 2   Evap(mm)    9809 non-null   float64\n",
            " 3   Tmax(°C)    13962 non-null  float64\n",
            " 4   Tmin(°C)    14064 non-null  float64\n",
            "dtypes: float64(4), object(1)\n",
            "memory usage: 572.0+ KB\n"
          ],
          "name": "stdout"
        }
      ]
    },
    {
      "cell_type": "code",
      "metadata": {
        "colab": {
          "base_uri": "https://localhost:8080/"
        },
        "id": "dAXE6Bs-F_9n",
        "outputId": "7339024a-e0ec-4861-9a1d-9497bba8708c"
      },
      "source": [
        "# De la instrucción anterior, vemos que hay valores faltantes. Sumamos los valores nulos. \r\n",
        "df_dist.isnull().sum()"
      ],
      "execution_count": null,
      "outputs": [
        {
          "output_type": "execute_result",
          "data": {
            "text/plain": [
              "Fecha            0\n",
              "Precip(mm)     118\n",
              "Evap(mm)      4830\n",
              "Tmax(°C)       677\n",
              "Tmin(°C)       575\n",
              "dtype: int64"
            ]
          },
          "metadata": {
            "tags": []
          },
          "execution_count": 29
        }
      ]
    },
    {
      "cell_type": "code",
      "metadata": {
        "colab": {
          "base_uri": "https://localhost:8080/"
        },
        "id": "q_OkmbrIIMoj",
        "outputId": "5343045a-feb5-4ab5-abf8-bf9fba493f3e"
      },
      "source": [
        "#Mostrar los extremos del DataFrame para observar el cambio \r\n",
        "print(df_dist.head(5))\r\n",
        "print(df_dist.tail(5))"
      ],
      "execution_count": null,
      "outputs": [
        {
          "output_type": "stream",
          "text": [
            "        Fecha  Precip(mm)  Evap(mm)  Tmax(°C)  Tmin(°C)\n",
            "0  05/11/1960         0.0       NaN      30.0       NaN\n",
            "1  06/11/1960         0.0       3.1      32.0      18.0\n",
            "2  07/11/1960         0.0       6.8      25.0      15.0\n",
            "3  08/11/1960         0.0       3.4      25.0      10.0\n",
            "4  09/11/1960         0.0       5.7      25.0      10.0\n",
            "            Fecha  Precip(mm)  Evap(mm)  Tmax(°C)  Tmin(°C)\n",
            "14634  27/08/2008         0.0       NaN      34.0      25.0\n",
            "14635  28/08/2008         0.0       NaN      34.5      26.0\n",
            "14636  29/08/2008         0.0       NaN      35.0      26.5\n",
            "14637  30/08/2008         0.0       NaN      34.5      25.5\n",
            "14638  31/08/2008         0.0       NaN      35.0      26.0\n"
          ],
          "name": "stdout"
        }
      ]
    },
    {
      "cell_type": "code",
      "metadata": {
        "colab": {
          "base_uri": "https://localhost:8080/",
          "height": 297
        },
        "id": "7z-dblvtI7kd",
        "outputId": "6d33e2b3-ed9e-4376-dd70-d6dc9fd5ea9f"
      },
      "source": [
        "#Un breve análisis estadístico, en el caul podemos observar que los valores estan dentro de lo esperado dado la region que es, unos valores parecidos a los de nuestra localidad a excepcion de la evaporacion dedo que puesto libertad es zona costera\r\n",
        "df_dist.describe()"
      ],
      "execution_count": null,
      "outputs": [
        {
          "output_type": "execute_result",
          "data": {
            "text/html": [
              "<div>\n",
              "<style scoped>\n",
              "    .dataframe tbody tr th:only-of-type {\n",
              "        vertical-align: middle;\n",
              "    }\n",
              "\n",
              "    .dataframe tbody tr th {\n",
              "        vertical-align: top;\n",
              "    }\n",
              "\n",
              "    .dataframe thead th {\n",
              "        text-align: right;\n",
              "    }\n",
              "</style>\n",
              "<table border=\"1\" class=\"dataframe\">\n",
              "  <thead>\n",
              "    <tr style=\"text-align: right;\">\n",
              "      <th></th>\n",
              "      <th>Precip(mm)</th>\n",
              "      <th>Evap(mm)</th>\n",
              "      <th>Tmax(°C)</th>\n",
              "      <th>Tmin(°C)</th>\n",
              "    </tr>\n",
              "  </thead>\n",
              "  <tbody>\n",
              "    <tr>\n",
              "      <th>count</th>\n",
              "      <td>14521.000000</td>\n",
              "      <td>9809.00000</td>\n",
              "      <td>13962.000000</td>\n",
              "      <td>14064.000000</td>\n",
              "    </tr>\n",
              "    <tr>\n",
              "      <th>mean</th>\n",
              "      <td>0.280504</td>\n",
              "      <td>6.18064</td>\n",
              "      <td>27.108953</td>\n",
              "      <td>14.884123</td>\n",
              "    </tr>\n",
              "    <tr>\n",
              "      <th>std</th>\n",
              "      <td>2.420622</td>\n",
              "      <td>2.63102</td>\n",
              "      <td>6.317689</td>\n",
              "      <td>7.693098</td>\n",
              "    </tr>\n",
              "    <tr>\n",
              "      <th>min</th>\n",
              "      <td>0.000000</td>\n",
              "      <td>0.10000</td>\n",
              "      <td>8.500000</td>\n",
              "      <td>-6.000000</td>\n",
              "    </tr>\n",
              "    <tr>\n",
              "      <th>25%</th>\n",
              "      <td>0.000000</td>\n",
              "      <td>4.20000</td>\n",
              "      <td>22.000000</td>\n",
              "      <td>8.500000</td>\n",
              "    </tr>\n",
              "    <tr>\n",
              "      <th>50%</th>\n",
              "      <td>0.000000</td>\n",
              "      <td>6.10000</td>\n",
              "      <td>27.000000</td>\n",
              "      <td>14.000000</td>\n",
              "    </tr>\n",
              "    <tr>\n",
              "      <th>75%</th>\n",
              "      <td>0.000000</td>\n",
              "      <td>8.10000</td>\n",
              "      <td>32.500000</td>\n",
              "      <td>21.500000</td>\n",
              "    </tr>\n",
              "    <tr>\n",
              "      <th>max</th>\n",
              "      <td>87.600000</td>\n",
              "      <td>16.10000</td>\n",
              "      <td>44.000000</td>\n",
              "      <td>32.000000</td>\n",
              "    </tr>\n",
              "  </tbody>\n",
              "</table>\n",
              "</div>"
            ],
            "text/plain": [
              "         Precip(mm)    Evap(mm)      Tmax(°C)      Tmin(°C)\n",
              "count  14521.000000  9809.00000  13962.000000  14064.000000\n",
              "mean       0.280504     6.18064     27.108953     14.884123\n",
              "std        2.420622     2.63102      6.317689      7.693098\n",
              "min        0.000000     0.10000      8.500000     -6.000000\n",
              "25%        0.000000     4.20000     22.000000      8.500000\n",
              "50%        0.000000     6.10000     27.000000     14.000000\n",
              "75%        0.000000     8.10000     32.500000     21.500000\n",
              "max       87.600000    16.10000     44.000000     32.000000"
            ]
          },
          "metadata": {
            "tags": []
          },
          "execution_count": 31
        }
      ]
    },
    {
      "cell_type": "markdown",
      "metadata": {
        "id": "T_yGn1WUKIJ4"
      },
      "source": [
        "Paso 4"
      ]
    },
    {
      "cell_type": "code",
      "metadata": {
        "id": "xns5jSrCKEeh"
      },
      "source": [
        "#Creacion de copia de respaldo de todo el DataFrame\r\n",
        "df_respaldo=df_dist.copy()"
      ],
      "execution_count": null,
      "outputs": []
    },
    {
      "cell_type": "code",
      "metadata": {
        "id": "DOk2vOMuKEWb"
      },
      "source": [
        "#Cambio de formato para la columna Fecha a un formato de fecha que comprende Python\r\n",
        "df_dist['Fecha']=pd.to_datetime(df_dist['Fecha'], dayfirst=True)\r\n"
      ],
      "execution_count": null,
      "outputs": []
    },
    {
      "cell_type": "code",
      "metadata": {
        "colab": {
          "base_uri": "https://localhost:8080/"
        },
        "id": "SGiTlf3JU3Hd",
        "outputId": "2e957ff7-03e9-45c0-9135-f18cd468d78a"
      },
      "source": [
        "#Observamos la diferencia en los tipos de las columnas fecha de cada DataFrame\r\n",
        "print(df_dist.dtypes)\r\n",
        "print(df_respaldo.dtypes)"
      ],
      "execution_count": null,
      "outputs": [
        {
          "output_type": "stream",
          "text": [
            "Fecha         datetime64[ns]\n",
            "Precip(mm)           float64\n",
            "Evap(mm)             float64\n",
            "Tmax(°C)             float64\n",
            "Tmin(°C)             float64\n",
            "dtype: object\n",
            "Fecha          object\n",
            "Precip(mm)    float64\n",
            "Evap(mm)      float64\n",
            "Tmax(°C)      float64\n",
            "Tmin(°C)      float64\n",
            "dtype: object\n"
          ],
          "name": "stdout"
        }
      ]
    },
    {
      "cell_type": "code",
      "metadata": {
        "id": "f4lMdtXQVnf0"
      },
      "source": [
        "# Buscamos ahora añadir dos columnas adicionales: df['Año'], df['Mes']\r\n",
        "# Usaremos la función .dt.year y .dt.month para extraer el Año y Mes de la Fecha\r\n",
        "df_dist['Año'] = df_dist['Fecha'].dt.year\r\n",
        "df_dist['Mes'] = df_dist['Fecha'].dt.month"
      ],
      "execution_count": null,
      "outputs": []
    },
    {
      "cell_type": "code",
      "metadata": {
        "colab": {
          "base_uri": "https://localhost:8080/"
        },
        "id": "o_M94-PqV6Ik",
        "outputId": "d7495ecf-b534-4160-a0b7-29e66ad0ad6a"
      },
      "source": [
        "\r\n",
        "# Corroborar la elaboracion de las dos columnas extras\r\n",
        "print(df_dist.head())\r\n",
        "print(df_dist.tail())"
      ],
      "execution_count": null,
      "outputs": [
        {
          "output_type": "stream",
          "text": [
            "       Fecha  Precip(mm)  Evap(mm)  Tmax(°C)  Tmin(°C)   Año  Mes\n",
            "0 1960-11-05         0.0       NaN      30.0       NaN  1960   11\n",
            "1 1960-11-06         0.0       3.1      32.0      18.0  1960   11\n",
            "2 1960-11-07         0.0       6.8      25.0      15.0  1960   11\n",
            "3 1960-11-08         0.0       3.4      25.0      10.0  1960   11\n",
            "4 1960-11-09         0.0       5.7      25.0      10.0  1960   11\n",
            "           Fecha  Precip(mm)  Evap(mm)  Tmax(°C)  Tmin(°C)   Año  Mes\n",
            "14634 2008-08-27         0.0       NaN      34.0      25.0  2008    8\n",
            "14635 2008-08-28         0.0       NaN      34.5      26.0  2008    8\n",
            "14636 2008-08-29         0.0       NaN      35.0      26.5  2008    8\n",
            "14637 2008-08-30         0.0       NaN      34.5      25.5  2008    8\n",
            "14638 2008-08-31         0.0       NaN      35.0      26.0  2008    8\n"
          ],
          "name": "stdout"
        }
      ]
    },
    {
      "cell_type": "code",
      "metadata": {
        "colab": {
          "base_uri": "https://localhost:8080/"
        },
        "id": "GalVcRLuWefd",
        "outputId": "6cc33fd2-7463-4d77-a97e-7371de9679e2"
      },
      "source": [
        "# Verificamos que Año y Mes son variables enteras \r\n",
        "df_dist.info()"
      ],
      "execution_count": null,
      "outputs": [
        {
          "output_type": "stream",
          "text": [
            "<class 'pandas.core.frame.DataFrame'>\n",
            "RangeIndex: 14639 entries, 0 to 14638\n",
            "Data columns (total 7 columns):\n",
            " #   Column      Non-Null Count  Dtype         \n",
            "---  ------      --------------  -----         \n",
            " 0   Fecha       14639 non-null  datetime64[ns]\n",
            " 1   Precip(mm)  14521 non-null  float64       \n",
            " 2   Evap(mm)    9809 non-null   float64       \n",
            " 3   Tmax(°C)    13962 non-null  float64       \n",
            " 4   Tmin(°C)    14064 non-null  float64       \n",
            " 5   Año         14639 non-null  int64         \n",
            " 6   Mes         14639 non-null  int64         \n",
            "dtypes: datetime64[ns](1), float64(4), int64(2)\n",
            "memory usage: 800.7 KB\n"
          ],
          "name": "stdout"
        }
      ]
    }
  ]
}