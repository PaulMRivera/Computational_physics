{
  "nbformat": 4,
  "nbformat_minor": 0,
  "metadata": {
    "colab": {
      "name": "Actividad7_p.ipynb",
      "provenance": [],
      "authorship_tag": "ABX9TyOj0lm/P8mw/StP3DObszjT",
      "include_colab_link": true
    },
    "kernelspec": {
      "name": "python3",
      "display_name": "Python 3"
    }
  },
  "cells": [
    {
      "cell_type": "markdown",
      "metadata": {
        "id": "view-in-github",
        "colab_type": "text"
      },
      "source": [
        "<a href=\"https://colab.research.google.com/github/PaulMRivera/Computational_physics/blob/master/Activity_7/Actividad7_p.ipynb\" target=\"_parent\"><img src=\"https://colab.research.google.com/assets/colab-badge.svg\" alt=\"Open In Colab\"/></a>"
      ]
    },
    {
      "cell_type": "code",
      "metadata": {
        "id": "wPZx37U4sG7Q"
      },
      "source": [
        "#Bibliotecas para trabajar en Algebra Lineal\n",
        "import numpy as np\n",
        "import scipy.linalg as la\n",
        "from numpy.linalg import matrix_power as mpow\n",
        "\n",
        "import matplotlib.pyplot as plt\n",
        "%matplotlib inline\n",
        "\n",
        "#ejercicio 6\n",
        "import pandas as pd"
      ],
      "execution_count": null,
      "outputs": []
    },
    {
      "cell_type": "markdown",
      "metadata": {
        "id": "FZ5AVEzWsZNc"
      },
      "source": [
        "**Ejercicio 1.** Defina las siguientes matrices.\n",
        "\n",
        "\\begin{equation*}\n",
        " A\n",
        " =\n",
        "  \\begin{bmatrix}\n",
        "   1 & 3 \\\\\n",
        "   -1 & 7\n",
        "   \\end{bmatrix}\n",
        "\\end{equation*}\n",
        "\n",
        "\\begin{equation*}\n",
        " B =\n",
        "  \\begin{bmatrix}\n",
        "   5 & 2 \\\\\n",
        "   1 & 2\n",
        "   \\end{bmatrix}\n",
        "\\end{equation*}\n",
        "\n",
        " y la matrix identidad \n",
        "\n",
        " \\begin{equation*}\n",
        " I = \n",
        "   \\begin{bmatrix}\n",
        "   1 & 0 \\\\\n",
        "   0 & 1\n",
        "   \\end{bmatrix}\n",
        "\\end{equation*}\n",
        "\n",
        "Calcule el resultado de $2*I+3*A+A@B$.\n",
        "\n",
        "Para definir la matriz identidad, se puede utilizar la función *np.eye(2, dtype=int)*. Ver manual de  [np.eye()](https://numpy.org/doc/stable/reference/generated/numpy.eye.html)."
      ]
    },
    {
      "cell_type": "code",
      "metadata": {
        "colab": {
          "base_uri": "https://localhost:8080/"
        },
        "id": "dDhBZJFfu6r5",
        "outputId": "0eee6fd3-1db8-4311-f6a5-a65e2e3fc1b3"
      },
      "source": [
        "A = np.array([[1,3],[-1,7]])\n",
        "B = np.array([[5,2],[1,2]])\n",
        "I = np.eye(2, dtype=int)\n",
        "print(A)\n",
        "print(B)\n",
        "print(I)"
      ],
      "execution_count": null,
      "outputs": [
        {
          "output_type": "stream",
          "text": [
            "[[ 1  3]\n",
            " [-1  7]]\n",
            "[[5 2]\n",
            " [1 2]]\n",
            "[[1 0]\n",
            " [0 1]]\n"
          ],
          "name": "stdout"
        }
      ]
    },
    {
      "cell_type": "code",
      "metadata": {
        "colab": {
          "base_uri": "https://localhost:8080/"
        },
        "id": "xqDVRevkw2tU",
        "outputId": "853be6b3-ebb9-4a54-e0be-aca9309bfc2e"
      },
      "source": [
        "Act1 = 2*I + 3*A + A@B\n",
        "print(Act1)"
      ],
      "execution_count": null,
      "outputs": [
        {
          "output_type": "stream",
          "text": [
            "[[13 17]\n",
            " [-1 35]]\n"
          ],
          "name": "stdout"
        }
      ]
    },
    {
      "cell_type": "markdown",
      "metadata": {
        "id": "OgJMhCJgxsvX"
      },
      "source": [
        "**Ejercicio 2**. Los polinomios característicos y el Teorema de Cayley-Hamilton.\n",
        "\n",
        "El polinomio característico de una matriz M esta dado en general por la ecuación \n",
        "\\begin{equation}\n",
        "\\det(M - \\lambda I) = 0\n",
        "\\end{equation}\n",
        "Para una matriz cuadrada M (2x2), el polinomio característico se puede escribir como\n",
        "\\begin{equation}\n",
        "P_2 (\\lambda) = \\det{(M)} - \\mathrm{tr}(M) \\, \\lambda + \\lambda^2   \n",
        "\\end{equation}\n",
        "y para una matriz cuadrada M (3x3), el polinomio característico resulta ser\n",
        "\n",
        "\\begin{equation}\n",
        "P_3 (\\lambda) = \\frac{1}{6} \n",
        "[ \\mathrm{tr}^3 (M) + 2 \\, \\mathrm{tr }(M^3) - 3 \\, \\mathrm{tr}(M) \\mathrm{tr}(M^2) ] - \n",
        "\\frac{1}{2} [ \\mathrm{tr}^2 (M) - \\mathrm{tr}(M^2) ] \\lambda + \\mathrm{tr}(M) \\lambda^2 - \\lambda^3\n",
        "\\end{equation}\n",
        "\n",
        "[El Teorema de Cayley-Hamilton](https://en.wikipedia.org/wiki/Cayley–Hamilton_theorem) nos dice que una matriz cuadrada M (2x2), satisface el polinomio característico\n",
        "\\begin{equation}\n",
        "P_2(M) = \\det(M) - \\mathrm{tr}(M) M + M^2 \n",
        "\\end{equation}\n",
        "y en general cualquier matriz cuadrada M (nxn), satisface $P_n(M)$. \n",
        "\n",
        "Demuestre esto para cualquier matriz M (2x2),  ($\\det(M) \\neq 0$)."
      ]
    },
    {
      "cell_type": "markdown",
      "metadata": {
        "id": "Way5Wh7czt9l"
      },
      "source": [
        "**Ejercicio 3:**\n",
        "\n",
        "Resuelva el sistema de ecuaciones.\n",
        "\n",
        "\\begin{eqnarray*}\n",
        "x - 3 y + z & = & 1 \\\\ \\nonumber\n",
        "3 x - 4y + z & = & 5 \\\\ \\nonumber\n",
        "2 y - z & = & 0 \\\\ \\nonumber\n",
        "\\end{eqnarray*}\n",
        "\n",
        "de dos formas, utilizando el Método de Eliminación Gaussiana y la utilzando la función scipy.linalg.solve()"
      ]
    },
    {
      "cell_type": "code",
      "metadata": {
        "id": "4PS_hF7Ozvzp"
      },
      "source": [
        "#Definimos 3 funciones \n",
        "\n",
        "#Intercambio de posición de renglones.\n",
        "def switch_rows(A,i,j):\n",
        "    \"Intercambiar renglones i y j en la matriz A.\"\n",
        "    n = A.shape[0]\n",
        "    E = np.eye(n)\n",
        "    E[i,i] = 0\n",
        "    E[j,j] = 0\n",
        "    E[i,j] = 1\n",
        "    E[j,i] = 1\n",
        "    return E @ A\n",
        "\n",
        "# Multiplicar un renglón por una constante no nula.\n",
        "def scale_row(A,k,i):\n",
        "    \"Multiplicar el renglón i por k en la matriz A.\"\n",
        "    n = A.shape[0]\n",
        "    E = np.eye(n)\n",
        "    E[i,i] = k\n",
        "    return E @ A\n",
        "\n",
        "# Sumar un múltiplo de un reglon a otro renglón.\n",
        "def add_row(A,k,i,j):\n",
        "    \"Sumar k veces el renglón j al renglón i en la matriz A.\"\n",
        "    n = A.shape[0]\n",
        "    E = np.eye(n)\n",
        "    if i == j:\n",
        "        E[i,i] = k + 1\n",
        "    else:\n",
        "        E[i,j] = k\n",
        "    return E @ A"
      ],
      "execution_count": null,
      "outputs": []
    },
    {
      "cell_type": "code",
      "metadata": {
        "colab": {
          "base_uri": "https://localhost:8080/"
        },
        "id": "sU7m3jFQ2M5B",
        "outputId": "fa563fe2-ac39-4784-991d-488e083fcd1a"
      },
      "source": [
        "M = np.array([[1,-3,1,1],[3,-4,1,5],[0,2,-1,0]])\n",
        "M = add_row(M,-3,1,0)\n",
        "M = scale_row(M,1/5,1)\n",
        "M = add_row(M,3,0,1)\n",
        "M = add_row(M,-2,2,1)\n",
        "M = scale_row(M,-5,2)\n",
        "M = add_row(M,1/5,0,2)\n",
        "M = add_row(M,2/5,1,2)\n",
        "\n",
        "m = np.array([[1,-3,1],[3,-4,1],[0,2,-1]])\n",
        "b = np.array([[1],[5],[0]])\n",
        "r = la.solve(m, b)\n",
        "\n",
        "print(M)\n",
        "print(r)"
      ],
      "execution_count": null,
      "outputs": [
        {
          "output_type": "stream",
          "text": [
            "[[ 1.00000000e+00  0.00000000e+00 -9.99200722e-17  3.00000000e+00]\n",
            " [ 0.00000000e+00  1.00000000e+00 -8.88178420e-17  2.00000000e+00]\n",
            " [ 0.00000000e+00  0.00000000e+00  1.00000000e+00  4.00000000e+00]]\n",
            "[[3.]\n",
            " [2.]\n",
            " [4.]]\n"
          ],
          "name": "stdout"
        }
      ]
    },
    {
      "cell_type": "markdown",
      "metadata": {
        "id": "GtQWN9n6OZUw"
      },
      "source": [
        "\n",
        "Ejercicio 4:\n",
        "\n",
        "Dadas las siguientes matrices $B_1, B_2$ y $B_3$\n",
        "\n",
        "(Ejemplos del artículo de Wikipedia sobre Eigenvalores y Eigenvectores)\n",
        "\n",
        "$$\\begin{equation*}\n",
        "B_1 = \\begin{bmatrix}\n",
        "2 & 0 & 0 \\\\\n",
        "0 & 3 & 4 \\\\\n",
        "0 & 4 & 9 \\\\\n",
        "\\end{bmatrix}\n",
        "\\end{equation*}$$$$\\begin{equation*}\n",
        "B_2 = \\begin{bmatrix}\n",
        "0 & 1 & 0 \\\\\n",
        "0 & 0 & 1 \\\\\n",
        "1 & 0 & 0 \\\\\n",
        "\\end{bmatrix}\n",
        "\\end{equation*}$$$$\\begin{equation*}\n",
        "B_3 = \\begin{bmatrix}\n",
        "2 & 0 & 0 & 0\\\\\n",
        "1 & 2 & 0 & 0 \\\\\n",
        "0 & 1 & 3 & 0 \\\\\n",
        "0 & 0 & 1 & 3 \\\\\n",
        "\\end{bmatrix}\n",
        "\\end{equation*}$$\n",
        "Encuentra los eigenvalores y eigenvectores de cada matriz utilizando la función de scipy.linalg.eig(), y contrasta tus resultados en cada caso con los que se desarrollan en los ejemplos de la Wikipedia."
      ]
    },
    {
      "cell_type": "code",
      "metadata": {
        "colab": {
          "base_uri": "https://localhost:8080/"
        },
        "id": "M4gVuFZPRgqi",
        "outputId": "f3b59aae-e589-497b-fa8d-44578131e9df"
      },
      "source": [
        "#m = np.array([[,,],[,,],[,,]])\n",
        "B1 = np.array([[2,0,0],[0,3,4],[0,4,9]])\n",
        "B2 = np.array([[0,1,0],[0,0,1],[1,0,0]])\n",
        "B3 = np.array([[2,0,0,0],[1,2,0,0],[0,1,3,0],[0,0,1,3]])\n",
        "print(B1)\n",
        "print(B2)\n",
        "print(B3)"
      ],
      "execution_count": null,
      "outputs": [
        {
          "output_type": "stream",
          "text": [
            "[[2 0 0]\n",
            " [0 3 4]\n",
            " [0 4 9]]\n",
            "[[0 1 0]\n",
            " [0 0 1]\n",
            " [1 0 0]]\n",
            "[[2 0 0 0]\n",
            " [1 2 0 0]\n",
            " [0 1 3 0]\n",
            " [0 0 1 3]]\n"
          ],
          "name": "stdout"
        }
      ]
    },
    {
      "cell_type": "code",
      "metadata": {
        "colab": {
          "base_uri": "https://localhost:8080/"
        },
        "id": "bNe8xekmRIVI",
        "outputId": "7b4d2dda-6c19-49ce-d4c1-86cf5bc5c221"
      },
      "source": [
        "# Aplicamos la biblioteca scipy.linalg.eig()\n",
        "eigvals, eigvecs = la.eig(B1)\n",
        "print('Eigenvalores:', eigvals)\n",
        "print('Eigenvectores:', eigvecs)\n",
        "print(\"\")\n",
        "print(\"Los valores para los eigenvaolres en la pagina antes citada son: 2, 1, y 11\")\n",
        "print(\"Los valores para los eigenvectores en la pagina antes citada son: [1 0 0]T, [0 -2 1]T y [0 1 2]T\")"
      ],
      "execution_count": null,
      "outputs": [
        {
          "output_type": "stream",
          "text": [
            "Eigenvalores: [11.+0.j  1.+0.j  2.+0.j]\n",
            "Eigenvectores: [[ 0.          0.          1.        ]\n",
            " [ 0.4472136   0.89442719  0.        ]\n",
            " [ 0.89442719 -0.4472136   0.        ]]\n",
            "\n",
            "Los valores para los eigenvaolres en la pagina antes citada son: 2, 1, y 11\n",
            "Los valores para los eigenvectores en la pagina antes citada son: [1 0 0]T, [0 -2 1]T y [0 1 2]T\n"
          ],
          "name": "stdout"
        }
      ]
    },
    {
      "cell_type": "code",
      "metadata": {
        "colab": {
          "base_uri": "https://localhost:8080/"
        },
        "id": "7tJeppHcVrux",
        "outputId": "7fa58ea0-ac53-4b33-fdf1-edb47e132a4b"
      },
      "source": [
        "eigvals, eigvecs = la.eig(B2)\n",
        "print('Eigenvalores:', eigvals)\n",
        "print('Eigenvectores:', eigvecs)\n",
        "print(\"\")\n",
        "print(\"Los valores para los eigenvaolres en la pagina antes citada son: 2, 1, y 11\")\n",
        "print(\"Los valores para los eigenvectores en la pagina antes citada son: [1 0 0]T, [0 -2 1]T y [0 1 2]T\")"
      ],
      "execution_count": null,
      "outputs": [
        {
          "output_type": "stream",
          "text": [
            "Eigenvalores: [-0.5+0.8660254j -0.5-0.8660254j  1. +0.j       ]\n",
            "Eigenvectores: [[ 0.57735027+0.j   0.57735027-0.j  -0.57735027+0.j ]\n",
            " [-0.28867513+0.5j -0.28867513-0.5j -0.57735027+0.j ]\n",
            " [-0.28867513-0.5j -0.28867513+0.5j -0.57735027+0.j ]]\n",
            "\n",
            "Los valores para los eigenvaolres en la pagina antes citada son: 2, 1, y 11\n",
            "Los valores para los eigenvectores en la pagina antes citada son: [1 0 0]T, [0 -2 1]T y [0 1 2]T\n"
          ],
          "name": "stdout"
        }
      ]
    },
    {
      "cell_type": "code",
      "metadata": {
        "colab": {
          "base_uri": "https://localhost:8080/"
        },
        "id": "OMURKI2WWtwL",
        "outputId": "efac050d-319b-4495-ee2a-e2dfd2bd687d"
      },
      "source": [
        "eigvals, eigvecs = la.eig(B3)\n",
        "print('Eigenvalores:', eigvals)\n",
        "print('Eigenvectores:', eigvecs)\n",
        "print(\"\")\n",
        "print(\"Los valores para los eigenvaolres en la pagina antes citada son: 2, 1, y 11\")\n",
        "print(\"Los valores para los eigenvectores en la pagina antes citada son: [1 0 0]T, [0 -2 1]T y [0 1 2]T\")"
      ],
      "execution_count": null,
      "outputs": [
        {
          "output_type": "stream",
          "text": [
            "Eigenvalores: [3.+0.j 3.+0.j 2.+0.j 2.+0.j]\n",
            "Eigenvectores: [[ 0.00000000e+00  0.00000000e+00  0.00000000e+00  2.56395025e-16]\n",
            " [ 0.00000000e+00  0.00000000e+00  5.77350269e-01 -5.77350269e-01]\n",
            " [ 0.00000000e+00  6.66133815e-16 -5.77350269e-01  5.77350269e-01]\n",
            " [ 1.00000000e+00 -1.00000000e+00  5.77350269e-01 -5.77350269e-01]]\n",
            "\n",
            "Los valores para los eigenvaolres en la pagina antes citada son: 2, 1, y 11\n",
            "Los valores para los eigenvectores en la pagina antes citada son: [1 0 0]T, [0 -2 1]T y [0 1 2]T\n"
          ],
          "name": "stdout"
        }
      ]
    },
    {
      "cell_type": "markdown",
      "metadata": {
        "id": "y0mXWYuzW19L"
      },
      "source": [
        "**Ejercicio 5.**\n",
        "Se tienen los siguientes 8 puntos: \n",
        "\n",
        "\\begin{eqnarray*} \n",
        "(x&,&y) \\\\\n",
        "(0.0 &,& 0.0), \\\\ \n",
        "(0.5 &,& 0.47942), \\\\ \n",
        "(1.0 &,& 0.84147), \\\\\n",
        "(1.5 &,& 0.99749), \\\\\n",
        "(2.0 &,& 0.90930), \\\\\n",
        "(2.5 &,& 0.59847), \\\\\n",
        "(3.0 &,& 0.14112), \\\\\n",
        "(3.5 &,& -0.35078) \\\\\n",
        "\\end{eqnarray*}\n",
        "\n",
        "Encuentre un polinomio interpolante $p(x)$ que pase por los 8 puntos. \n",
        "\n",
        "Sobreponga la función $y=\\sin(x)$ y contrástela con el polinomio $p(x)$."
      ]
    },
    {
      "cell_type": "code",
      "metadata": {
        "colab": {
          "base_uri": "https://localhost:8080/",
          "height": 295
        },
        "id": "u0zQX5FbW4nI",
        "outputId": "fbe48784-9fb4-4f6a-f4fa-52e1b282dcfd"
      },
      "source": [
        "x = 0,0.5,1,1.5,2.0,2.5,3,3.5\n",
        "y = 0,0.47942,0.84147,0.99749,0.90930,0.59847,0.14112,-0.35078\n",
        "z = np.sin(x) \n",
        "plt.plot(x,y,'r.')\n",
        "plt.grid()\n",
        "plt.title('bla ')\n",
        "plt.xlabel('x')\n",
        "plt.ylabel('y')\n",
        "plt.plot(x,z, color= \"cyan\")\n",
        "plt.show()"
      ],
      "execution_count": null,
      "outputs": [
        {
          "output_type": "display_data",
          "data": {
            "image/png": "[encoded data removed]",
            "text/plain": [
              "<Figure size 432x288 with 1 Axes>"
            ]
          },
          "metadata": {
            "tags": [],
            "needs_background": "light"
          }
        }
      ]
    },
    {
      "cell_type": "code",
      "metadata": {
        "colab": {
          "base_uri": "https://localhost:8080/"
        },
        "id": "caIAP1rPatUh",
        "outputId": "36e3087c-52e4-4cbe-ab1a-c60ef560f49c"
      },
      "source": [
        "# La biblioteca Numpy tambien tiene una función para crear la matriz de Vandermonde\n",
        "X = np.vander(x,increasing=True)\n",
        "# Sólo imprimimos los primeros 5 renglones y columnas.\n",
        "print(X[:5,:5])"
      ],
      "execution_count": null,
      "outputs": [
        {
          "output_type": "stream",
          "text": [
            "[[ 1.      0.      0.      0.      0.    ]\n",
            " [ 1.      0.5     0.25    0.125   0.0625]\n",
            " [ 1.      1.      1.      1.      1.    ]\n",
            " [ 1.      1.5     2.25    3.375   5.0625]\n",
            " [ 1.      2.      4.      8.     16.    ]]\n"
          ],
          "name": "stdout"
        }
      ]
    },
    {
      "cell_type": "code",
      "metadata": {
        "colab": {
          "base_uri": "https://localhost:8080/"
        },
        "id": "9hwpV0McbNJr",
        "outputId": "376876e9-52c0-40fa-8e2a-15538906ebc5"
      },
      "source": [
        "a = la.solve(X,y)\n",
        "print(a)"
      ],
      "execution_count": null,
      "outputs": [
        {
          "output_type": "stream",
          "text": [
            "[ 0.00000000e+00  1.00067181e+00 -3.70788889e-03 -1.58867889e-01\n",
            " -8.30222222e-03  1.31964444e-02 -1.54488889e-03  2.46349206e-05]\n"
          ],
          "name": "stdout"
        }
      ]
    },
    {
      "cell_type": "code",
      "metadata": {
        "colab": {
          "base_uri": "https://localhost:8080/",
          "height": 295
        },
        "id": "Isxn6ao0b3gK",
        "outputId": "32c99eb3-18ef-4a2d-c680-c1077d0049b1"
      },
      "source": [
        "\n",
        "N=8\n",
        "# Graficamos el polinomio interpolante y los puntos interpolados\n",
        "# Los puntos interpolados en rojo ('r.')\n",
        "xs = np.linspace(0,N-1,200)\n",
        "ys = sum([a[k]*xs**k for k in range(0,N)])\n",
        "plt.plot(x,y,'r.',xs,ys)\n",
        "plt.grid()\n",
        "plt.title('Polinomio interpolante p(x)')\n",
        "plt.xlabel('x')\n",
        "plt.ylabel('y')\n",
        "plt.plot(x,z, color= \"cyan\")\n",
        "plt.show()"
      ],
      "execution_count": null,
      "outputs": [
        {
          "output_type": "display_data",
          "data": {
            "image/png": "[encoded data removed]",
            "text/plain": [
              "<Figure size 432x288 with 1 Axes>"
            ]
          },
          "metadata": {
            "tags": [],
            "needs_background": "light"
          }
        }
      ]
    },
    {
      "cell_type": "markdown",
      "metadata": {
        "id": "wFl3trWsZDy9"
      },
      "source": [
        "**Ejercicio 6.** \n",
        "Regrese a su modelo de análisis de series de tiempo. Haga una descomposición de su serie de tiempo de las temperaturas (Tmax y Tmin), y realice una regresión lineal sobre la serie de Tendencia de Temp $(T = a_0 + a_1 t)$. Encuentre si la pendiente es positiva o negativa de la tendencia (signo de $a_1$), es decir si las Temperaturas (Tmax, Tmin) están subiendo o bajando en el periodo analizado.\n",
        "\n",
        "**NOTA:** Pueden trabajar en sus Notebooks de la Actividad 5 o 6 y hacer el ajuste de regresión lineal allá donde tienen todo cargado en la memoria y luego copiar unas celdas de texto de esa Notebook y agregarlas al final de su Notebook de la Actividad 7. Así no tienen que cargar a la memoria todas las operaciones. "
      ]
    },
    {
      "cell_type": "code",
      "metadata": {
        "id": "x46Ck8NMehUf"
      },
      "source": [
        "#Tomar la dirección URL del archivo\n",
        "url = 'https://smn.conagua.gob.mx/tools/RESOURCES/Diarios/26071.txt'\n",
        "\n",
        "# Definimos los nombres de las columnas\n",
        "# El archivo tiene códigos ASCII extendido (Español), encoding='cp1251' Windows (Europa Occidental)\n",
        "# El separador de datos es de uno o más espacios, sep='\\s+'\n",
        "# Se brincará los primeros 19 renglones y el último, afirmamos que no nay encabezado\n",
        "# Se procesan los datos utilizando Python, engine='python' \n",
        "my_cols = ['Fecha', 'Precip', 'Evap', 'Tmax', 'Tmin']\n",
        "df_dist = pd.read_csv(url, names=my_cols, encoding='cp1251', sep='\\s+', header=None, skiprows=19, skipfooter=1, engine='python')\n",
        "\n",
        "#Copia de respaldo\n",
        "df_work0 = df_dist.copy()\n",
        "\n",
        "#Cambiar los valores \"Nulo\" por un campo vacio\n",
        "str_Nulo = 'Nulo'\n",
        "df_work1 = df_work0.replace(to_replace=str_Nulo, value='', regex=True)\n",
        "\n",
        "#Convertir los valores de las distintas variables a números flotantes flotantes \n",
        "cols_list = ['Precip', 'Evap', 'Tmax', 'Tmin']\n",
        "for cols in cols_list:\n",
        "  df_work1[cols] = pd.to_numeric(df_work1[cols], errors='coerce')\n",
        "\n",
        "#Creacion dataframe en caso de regresarse\n",
        "df_work2 = df_work1.copy()\n",
        "\n",
        "#Cambio de formato para la columna Fecha a un formato de fecha que comprende Python\n",
        "df_work2['Fecha']=pd.to_datetime(df_work2['Fecha'], dayfirst=True).copy()\n",
        "\n",
        "#Función .dt.year y .dt.strftime(%b) para extraer el Año \n",
        "# y Mes (Abreviado) de la Fecha\n",
        "df_work2['Año'] = df_work2['Fecha'].dt.year\n",
        "df_work2['Mes'] = df_work2['Fecha'].dt.strftime('%b')\n",
        "\n",
        "#Creasion de nuestro punto de partida\n",
        "df_meteo = df_work2.copy()\n",
        "\n",
        "#Copia del último DataFrame df_meteo y crea un DataFrame df_meteo_ts\n",
        "df_meteo_ts = df_meteo.copy()\n",
        "\n",
        "#Reemplazo el índice por la variable 'Fecha' \n",
        "df_meteo_ts = df_meteo_ts.set_index('Fecha')\n",
        "\n",
        "df_r = df_meteo_ts[(df_meteo_ts['Año'] >= 1984) & (df_meteo_ts['Año'] < 1985)]"
      ],
      "execution_count": null,
      "outputs": []
    },
    {
      "cell_type": "code",
      "metadata": {
        "colab": {
          "base_uri": "https://localhost:8080/",
          "height": 450
        },
        "id": "lwdbkTSXgpWy",
        "outputId": "23eb4422-2040-427f-8d92-a2a16cff62ef"
      },
      "source": [
        "df_r"
      ],
      "execution_count": null,
      "outputs": [
        {
          "output_type": "execute_result",
          "data": {
            "text/html": [
              "<div>\n",
              "<style scoped>\n",
              "    .dataframe tbody tr th:only-of-type {\n",
              "        vertical-align: middle;\n",
              "    }\n",
              "\n",
              "    .dataframe tbody tr th {\n",
              "        vertical-align: top;\n",
              "    }\n",
              "\n",
              "    .dataframe thead th {\n",
              "        text-align: right;\n",
              "    }\n",
              "</style>\n",
              "<table border=\"1\" class=\"dataframe\">\n",
              "  <thead>\n",
              "    <tr style=\"text-align: right;\">\n",
              "      <th></th>\n",
              "      <th>Precip</th>\n",
              "      <th>Evap</th>\n",
              "      <th>Tmax</th>\n",
              "      <th>Tmin</th>\n",
              "      <th>Año</th>\n",
              "      <th>Mes</th>\n",
              "    </tr>\n",
              "    <tr>\n",
              "      <th>Fecha</th>\n",
              "      <th></th>\n",
              "      <th></th>\n",
              "      <th></th>\n",
              "      <th></th>\n",
              "      <th></th>\n",
              "      <th></th>\n",
              "    </tr>\n",
              "  </thead>\n",
              "  <tbody>\n",
              "    <tr>\n",
              "      <th>1984-01-01</th>\n",
              "      <td>0.0</td>\n",
              "      <td>2.8</td>\n",
              "      <td>21.0</td>\n",
              "      <td>6.0</td>\n",
              "      <td>1984</td>\n",
              "      <td>Jan</td>\n",
              "    </tr>\n",
              "    <tr>\n",
              "      <th>1984-01-02</th>\n",
              "      <td>0.0</td>\n",
              "      <td>4.2</td>\n",
              "      <td>21.0</td>\n",
              "      <td>10.0</td>\n",
              "      <td>1984</td>\n",
              "      <td>Jan</td>\n",
              "    </tr>\n",
              "    <tr>\n",
              "      <th>1984-01-03</th>\n",
              "      <td>0.0</td>\n",
              "      <td>2.4</td>\n",
              "      <td>21.5</td>\n",
              "      <td>8.0</td>\n",
              "      <td>1984</td>\n",
              "      <td>Jan</td>\n",
              "    </tr>\n",
              "    <tr>\n",
              "      <th>1984-01-04</th>\n",
              "      <td>4.2</td>\n",
              "      <td>0.9</td>\n",
              "      <td>19.0</td>\n",
              "      <td>10.0</td>\n",
              "      <td>1984</td>\n",
              "      <td>Jan</td>\n",
              "    </tr>\n",
              "    <tr>\n",
              "      <th>1984-01-05</th>\n",
              "      <td>0.3</td>\n",
              "      <td>2.4</td>\n",
              "      <td>21.0</td>\n",
              "      <td>14.0</td>\n",
              "      <td>1984</td>\n",
              "      <td>Jan</td>\n",
              "    </tr>\n",
              "    <tr>\n",
              "      <th>...</th>\n",
              "      <td>...</td>\n",
              "      <td>...</td>\n",
              "      <td>...</td>\n",
              "      <td>...</td>\n",
              "      <td>...</td>\n",
              "      <td>...</td>\n",
              "    </tr>\n",
              "    <tr>\n",
              "      <th>1984-12-27</th>\n",
              "      <td>9.9</td>\n",
              "      <td>0.8</td>\n",
              "      <td>17.5</td>\n",
              "      <td>11.0</td>\n",
              "      <td>1984</td>\n",
              "      <td>Dec</td>\n",
              "    </tr>\n",
              "    <tr>\n",
              "      <th>1984-12-28</th>\n",
              "      <td>0.0</td>\n",
              "      <td>2.6</td>\n",
              "      <td>20.0</td>\n",
              "      <td>13.0</td>\n",
              "      <td>1984</td>\n",
              "      <td>Dec</td>\n",
              "    </tr>\n",
              "    <tr>\n",
              "      <th>1984-12-29</th>\n",
              "      <td>0.0</td>\n",
              "      <td>3.1</td>\n",
              "      <td>19.0</td>\n",
              "      <td>8.0</td>\n",
              "      <td>1984</td>\n",
              "      <td>Dec</td>\n",
              "    </tr>\n",
              "    <tr>\n",
              "      <th>1984-12-30</th>\n",
              "      <td>0.0</td>\n",
              "      <td>3.2</td>\n",
              "      <td>18.0</td>\n",
              "      <td>7.0</td>\n",
              "      <td>1984</td>\n",
              "      <td>Dec</td>\n",
              "    </tr>\n",
              "    <tr>\n",
              "      <th>1984-12-31</th>\n",
              "      <td>0.0</td>\n",
              "      <td>0.8</td>\n",
              "      <td>18.0</td>\n",
              "      <td>6.0</td>\n",
              "      <td>1984</td>\n",
              "      <td>Dec</td>\n",
              "    </tr>\n",
              "  </tbody>\n",
              "</table>\n",
              "<p>366 rows × 6 columns</p>\n",
              "</div>"
            ],
            "text/plain": [
              "            Precip  Evap  Tmax  Tmin   Año  Mes\n",
              "Fecha                                          \n",
              "1984-01-01     0.0   2.8  21.0   6.0  1984  Jan\n",
              "1984-01-02     0.0   4.2  21.0  10.0  1984  Jan\n",
              "1984-01-03     0.0   2.4  21.5   8.0  1984  Jan\n",
              "1984-01-04     4.2   0.9  19.0  10.0  1984  Jan\n",
              "1984-01-05     0.3   2.4  21.0  14.0  1984  Jan\n",
              "...            ...   ...   ...   ...   ...  ...\n",
              "1984-12-27     9.9   0.8  17.5  11.0  1984  Dec\n",
              "1984-12-28     0.0   2.6  20.0  13.0  1984  Dec\n",
              "1984-12-29     0.0   3.1  19.0   8.0  1984  Dec\n",
              "1984-12-30     0.0   3.2  18.0   7.0  1984  Dec\n",
              "1984-12-31     0.0   0.8  18.0   6.0  1984  Dec\n",
              "\n",
              "[366 rows x 6 columns]"
            ]
          },
          "metadata": {
            "tags": []
          },
          "execution_count": 126
        }
      ]
    },
    {
      "cell_type": "code",
      "metadata": {
        "colab": {
          "base_uri": "https://localhost:8080/",
          "height": 231
        },
        "id": "LGWBY7otf1B1",
        "outputId": "a0a6a311-c29c-45a9-dfd5-9a84dc03dff2"
      },
      "source": [
        "# Graficamos el resultado del ajuste\n",
        "\n",
        "plt.plot(df_r[Fecha],df_r[Tmax],'r',linewidth=4)\n",
        "plt.scatter(x,y,alpha=0.5,lw=0)\n",
        "plt.grid()\n",
        "plt.title('Ajuste mediante Regresión Cuadrática a los datos')\n",
        "plt.xlabel('x')\n",
        "plt.ylabel('y')\n",
        "plt.show()"
      ],
      "execution_count": null,
      "outputs": [
        {
          "output_type": "error",
          "ename": "NameError",
          "evalue": "ignored",
          "traceback": [
            "\u001b[0;31m---------------------------------------------------------------------------\u001b[0m",
            "\u001b[0;31mNameError\u001b[0m                                 Traceback (most recent call last)",
            "\u001b[0;32m<ipython-input-127-3067430281d5>\u001b[0m in \u001b[0;36m<module>\u001b[0;34m()\u001b[0m\n\u001b[1;32m      1\u001b[0m \u001b[0;31m# Graficamos el resultado del ajuste\u001b[0m\u001b[0;34m\u001b[0m\u001b[0;34m\u001b[0m\u001b[0;34m\u001b[0m\u001b[0m\n\u001b[1;32m      2\u001b[0m \u001b[0;34m\u001b[0m\u001b[0m\n\u001b[0;32m----> 3\u001b[0;31m \u001b[0mplt\u001b[0m\u001b[0;34m.\u001b[0m\u001b[0mplot\u001b[0m\u001b[0;34m(\u001b[0m\u001b[0mdf_r\u001b[0m\u001b[0;34m[\u001b[0m\u001b[0mFecha\u001b[0m\u001b[0;34m]\u001b[0m\u001b[0;34m,\u001b[0m\u001b[0mdf_r\u001b[0m\u001b[0;34m[\u001b[0m\u001b[0mTmax\u001b[0m\u001b[0;34m]\u001b[0m\u001b[0;34m,\u001b[0m\u001b[0;34m'r'\u001b[0m\u001b[0;34m,\u001b[0m\u001b[0mlinewidth\u001b[0m\u001b[0;34m=\u001b[0m\u001b[0;36m4\u001b[0m\u001b[0;34m)\u001b[0m\u001b[0;34m\u001b[0m\u001b[0;34m\u001b[0m\u001b[0m\n\u001b[0m\u001b[1;32m      4\u001b[0m \u001b[0mplt\u001b[0m\u001b[0;34m.\u001b[0m\u001b[0mscatter\u001b[0m\u001b[0;34m(\u001b[0m\u001b[0mx\u001b[0m\u001b[0;34m,\u001b[0m\u001b[0my\u001b[0m\u001b[0;34m,\u001b[0m\u001b[0malpha\u001b[0m\u001b[0;34m=\u001b[0m\u001b[0;36m0.5\u001b[0m\u001b[0;34m,\u001b[0m\u001b[0mlw\u001b[0m\u001b[0;34m=\u001b[0m\u001b[0;36m0\u001b[0m\u001b[0;34m)\u001b[0m\u001b[0;34m\u001b[0m\u001b[0;34m\u001b[0m\u001b[0m\n\u001b[1;32m      5\u001b[0m \u001b[0mplt\u001b[0m\u001b[0;34m.\u001b[0m\u001b[0mgrid\u001b[0m\u001b[0;34m(\u001b[0m\u001b[0;34m)\u001b[0m\u001b[0;34m\u001b[0m\u001b[0;34m\u001b[0m\u001b[0m\n",
            "\u001b[0;31mNameError\u001b[0m: name 'Fecha' is not defined"
          ]
        }
      ]
    }
  ]
}