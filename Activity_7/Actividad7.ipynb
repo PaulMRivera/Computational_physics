{
  "nbformat": 4,
  "nbformat_minor": 0,
  "metadata": {
    "colab": {
      "name": "Actividad7.ipynb",
      "provenance": [],
      "collapsed_sections": [],
      "authorship_tag": "ABX9TyMFLSF3F3odJ5i+4johy3C+",
      "include_colab_link": true
    },
    "kernelspec": {
      "name": "python3",
      "display_name": "Python 3"
    },
    "language_info": {
      "name": "python"
    }
  },
  "cells": [
    {
      "cell_type": "markdown",
      "metadata": {
        "id": "view-in-github",
        "colab_type": "text"
      },
      "source": [
        "<a href=\"https://colab.research.google.com/github/PaulMRivera/Computational_physics/blob/master/Activity_7/Actividad7.ipynb\" target=\"_parent\"><img src=\"https://colab.research.google.com/assets/colab-badge.svg\" alt=\"Open In Colab\"/></a>"
      ]
    },
    {
      "cell_type": "code",
      "metadata": {
        "id": "p4yPdyIC8mMn"
      },
      "source": [
        "import numpy as np\n",
        "import scipy.linalg as la\n",
        "from numpy.linalg import matrix_power as mpow\n",
        "\n",
        "import matplotlib.pyplot as plt\n",
        "%matplotlib inline"
      ],
      "execution_count": null,
      "outputs": []
    },
    {
      "cell_type": "markdown",
      "metadata": {
        "id": "3rUK64CA_wfF"
      },
      "source": [
        "**Ejercicio 1.**\n",
        "Defina las siguientes matrices."
      ]
    },
    {
      "cell_type": "code",
      "metadata": {
        "colab": {
          "base_uri": "https://localhost:8080/"
        },
        "id": "kHoJanYr8yQt",
        "outputId": "175aed56-87e8-4c84-cf45-ab529d0753b4"
      },
      "source": [
        "A = np.array([[1, 3],[-1, 7]])\n",
        "B = np.array([[5, 2],[1, 2]])\n",
        "I = np.eye(2, dtype=int)\n",
        "print(f\"A={A}\")\n",
        "print()\n",
        "print(f\"B={B}\")\n",
        "print()\n",
        "print(f\"I={I}\")"
      ],
      "execution_count": null,
      "outputs": [
        {
          "output_type": "stream",
          "text": [
            "A=[[ 1  3]\n",
            " [-1  7]]\n",
            "\n",
            "B=[[5 2]\n",
            " [1 2]]\n",
            "\n",
            "I=[[1 0]\n",
            " [0 1]]\n"
          ],
          "name": "stdout"
        }
      ]
    },
    {
      "cell_type": "code",
      "metadata": {
        "colab": {
          "base_uri": "https://localhost:8080/"
        },
        "id": "PST5Lg0a84I1",
        "outputId": "5f67a8a4-dcb8-4c0c-884c-32977ed6ba26"
      },
      "source": [
        "M = (2*I)+(3*A)+(A@B)\n",
        "print(f\"M={M}\")"
      ],
      "execution_count": null,
      "outputs": [
        {
          "output_type": "stream",
          "text": [
            "M=[[13 17]\n",
            " [-1 35]]\n"
          ],
          "name": "stdout"
        }
      ]
    },
    {
      "cell_type": "markdown",
      "metadata": {
        "id": "c_kHYLm7_zxv"
      },
      "source": [
        "**Ejercicio 2.**\n",
        "Los polinomios característicos y el Teorema de Cayley-Hamilton."
      ]
    },
    {
      "cell_type": "code",
      "metadata": {
        "colab": {
          "base_uri": "https://localhost:8080/"
        },
        "id": "NtuO9InY87ub",
        "outputId": "d5d83e0c-5389-4029-d677-f98c12b23d1a"
      },
      "source": [
        "M = np.array([[1, 3],[-1, 7]])\n",
        "I = np.eye(2, dtype=int)\n",
        "\n",
        "#CALCULANDO EL DETERMINANTE DE LA MATRIZ M\n",
        "det = la.det(M)\n",
        "\n",
        "#CALCULANDO LA TRAZA DE M\n",
        "tr = np.trace(M)\n",
        "\n",
        "#TEROMA DE CAYLEY-HAMILTON\n",
        "P2 = (det*I) - (tr*M) + (mpow(M,2))\n",
        "\n",
        "print(\"Determinante : \",det)\n",
        "print()\n",
        "print(\"Traza: \", tr)\n",
        "print()\n",
        "print(\"Matriz Caracteristica: \")\n",
        "print()\n",
        "print( P2 )"
      ],
      "execution_count": null,
      "outputs": [
        {
          "output_type": "stream",
          "text": [
            "Determinante :  10.0\n",
            "\n",
            "Traza:  8\n",
            "\n",
            "Matriz Caracteristica: \n",
            "\n",
            "[[0. 0.]\n",
            " [0. 0.]]\n"
          ],
          "name": "stdout"
        }
      ]
    },
    {
      "cell_type": "markdown",
      "metadata": {
        "id": "EoRZRfK1_-Zf"
      },
      "source": [
        "**Ejercicio 3:**\n",
        "Resuelva el sistema de ecuaciones.\n",
        "\n",
        "![image.png](data:image/png;base64,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)\n",
        "\n",
        "\n",
        "Utilizando el Método de Eliminación Gaussiana y la función scipy.linalg.solve()"
      ]
    },
    {
      "cell_type": "code",
      "metadata": {
        "id": "HMFfGmHT8-MS"
      },
      "source": [
        "#DEFINICION DE FUNCIONES PARA LA RESOLUCION GAUSSIANA\n",
        "#DEFINIMOS 3 FUNCIONES\n",
        "\n",
        "#INTERCAMBIO DE POSICION DE RENGLONES\n",
        "def switch_rows(A,i,j):\n",
        "    \"Intercambiar renglones i y j en la matriz A.\"\n",
        "    n = A.shape[0]\n",
        "    E = np.eye(n)\n",
        "    E[i,i] = 0\n",
        "    E[j,j] = 0\n",
        "    E[i,j] = 1\n",
        "    E[j,i] = 1\n",
        "    return E @ A\n",
        "\n",
        "# MULTIPLICAR UN RENGLON POR UNA CONSTANTE NO NULA\n",
        "def scale_row(A,k,i):\n",
        "    \"Multiplicar el renglón i por k en la matriz A.\"\n",
        "    n = A.shape[0]\n",
        "    E = np.eye(n)\n",
        "    E[i,i] = k\n",
        "    return E @ A\n",
        "\n",
        "#SUMAR UN MULTIPLO DE UN RENGLO A OTRO RENGLON\n",
        "def add_row(A,k,i,j):\n",
        "    \"Sumar k veces el renglón j al renglón i en la matriz A.\"\n",
        "    n = A.shape[0]\n",
        "    E = np.eye(n)\n",
        "    if i == j:\n",
        "        E[i,i] = k + 1\n",
        "    else:\n",
        "        E[i,j] = k\n",
        "    return E @ A"
      ],
      "execution_count": null,
      "outputs": []
    },
    {
      "cell_type": "code",
      "metadata": {
        "colab": {
          "base_uri": "https://localhost:8080/"
        },
        "id": "zOtENSBR-aVH",
        "outputId": "40791d56-6ec1-4ade-a64b-6f8402091e0c"
      },
      "source": [
        "M = np.array([[1,-3,1],[3,-4,1],[0,2,-1]])\n",
        "#CONVIRTIENDO EL SISTEMA DE ECUACIONES A UNA MATRIZ 3X3\n",
        "print(M)\n",
        "print()\n",
        "print('det(M) = ', la.det(M))"
      ],
      "execution_count": null,
      "outputs": [
        {
          "output_type": "stream",
          "text": [
            "[[ 1 -3  1]\n",
            " [ 3 -4  1]\n",
            " [ 0  2 -1]]\n",
            "\n",
            "det(M) =  -1.0000000000000004\n"
          ],
          "name": "stdout"
        }
      ]
    },
    {
      "cell_type": "code",
      "metadata": {
        "colab": {
          "base_uri": "https://localhost:8080/"
        },
        "id": "Cvg-aKAn-eQ4",
        "outputId": "e5a7ee45-50a0-4720-d4b8-04d2d96ae083"
      },
      "source": [
        "# MATRIZ AUMENTADA: UNIMOS LA MATRIZ M CON LA MATRIZ IDENTIDAD\n",
        "A = np.hstack([M,np.eye(3)])\n",
        "print(A)"
      ],
      "execution_count": null,
      "outputs": [
        {
          "output_type": "stream",
          "text": [
            "[[ 1. -3.  1.  1.  0.  0.]\n",
            " [ 3. -4.  1.  0.  1.  0.]\n",
            " [ 0.  2. -1.  0.  0.  1.]]\n"
          ],
          "name": "stdout"
        }
      ]
    },
    {
      "cell_type": "code",
      "metadata": {
        "colab": {
          "base_uri": "https://localhost:8080/"
        },
        "id": "Ol0bcOdK-gWg",
        "outputId": "792956dc-7dde-464b-c64b-90b854eabf69"
      },
      "source": [
        "A1 = scale_row(A,1/3,1)\n",
        "# R2*1/3 -----> R2\n",
        "A2 = add_row(A1,-1,1,0)\n",
        "# R2+(-R1) ---> R2\n",
        "print(A2)"
      ],
      "execution_count": null,
      "outputs": [
        {
          "output_type": "stream",
          "text": [
            "[[ 1.         -3.          1.          1.          0.          0.        ]\n",
            " [ 0.          1.66666667 -0.66666667 -1.          0.33333333  0.        ]\n",
            " [ 0.          2.         -1.          0.          0.          1.        ]]\n"
          ],
          "name": "stdout"
        }
      ]
    },
    {
      "cell_type": "code",
      "metadata": {
        "colab": {
          "base_uri": "https://localhost:8080/"
        },
        "id": "X4NHNIlx-hkG",
        "outputId": "2a8c97d5-dc91-42ac-aea9-019901573318"
      },
      "source": [
        "A3 = scale_row(A2,1/2,2)\n",
        "# R3*(1/2) -----> R3\n",
        "A4= add_row(A3,(-3/5.),2,1)\n",
        "# R3-R2*(-3/5) ----->R3\n",
        "print(A4)"
      ],
      "execution_count": null,
      "outputs": [
        {
          "output_type": "stream",
          "text": [
            "[[ 1.         -3.          1.          1.          0.          0.        ]\n",
            " [ 0.          1.66666667 -0.66666667 -1.          0.33333333  0.        ]\n",
            " [ 0.          0.         -0.1         0.6        -0.2         0.5       ]]\n"
          ],
          "name": "stdout"
        }
      ]
    },
    {
      "cell_type": "code",
      "metadata": {
        "colab": {
          "base_uri": "https://localhost:8080/"
        },
        "id": "4_VEd6RQ-j4k",
        "outputId": "85404476-404b-486f-afc3-d7cb0daa3976"
      },
      "source": [
        "A5 = add_row(A4,10.0,0,2)\n",
        "#R1+10*R3--------> R1\n",
        "A6 = add_row(A5,(-20/3),1,2)\n",
        "#R2+(-20/3*R3) --------> R2\n",
        "A7 = add_row(A6,9/5,0,1)\n",
        "#R1+(9/3*R2)---------> R1\n",
        "print(A7)"
      ],
      "execution_count": null,
      "outputs": [
        {
          "output_type": "stream",
          "text": [
            "[[ 1.00000000e+00  2.07241631e-16 -1.24344979e-16 -2.00000000e+00\n",
            "   1.00000000e+00 -1.00000000e+00]\n",
            " [ 0.00000000e+00  1.66666667e+00 -1.92438658e-16 -5.00000000e+00\n",
            "   1.66666667e+00 -3.33333333e+00]\n",
            " [ 0.00000000e+00  0.00000000e+00 -1.00000000e-01  6.00000000e-01\n",
            "  -2.00000000e-01  5.00000000e-01]]\n"
          ],
          "name": "stdout"
        }
      ]
    },
    {
      "cell_type": "code",
      "metadata": {
        "colab": {
          "base_uri": "https://localhost:8080/"
        },
        "id": "WwwqnOwf-t8G",
        "outputId": "8e28dd47-ed94-485f-b960-98af95830e98"
      },
      "source": [
        "A8 = scale_row(A7,3/5,1)\n",
        "A9 = scale_row(A8,-10,2)\n",
        "print(A9)"
      ],
      "execution_count": null,
      "outputs": [
        {
          "output_type": "stream",
          "text": [
            "[[ 1.00000000e+00  2.07241631e-16 -1.24344979e-16 -2.00000000e+00\n",
            "   1.00000000e+00 -1.00000000e+00]\n",
            " [ 0.00000000e+00  1.00000000e+00 -1.15463195e-16 -3.00000000e+00\n",
            "   1.00000000e+00 -2.00000000e+00]\n",
            " [ 0.00000000e+00  0.00000000e+00  1.00000000e+00 -6.00000000e+00\n",
            "   2.00000000e+00 -5.00000000e+00]]\n"
          ],
          "name": "stdout"
        }
      ]
    },
    {
      "cell_type": "code",
      "metadata": {
        "colab": {
          "base_uri": "https://localhost:8080/"
        },
        "id": "sUNVpTj1-_vO",
        "outputId": "e49a26fa-a446-4d96-ad52-317e5d300dc8"
      },
      "source": [
        "# HEMOS OBTENIDO LA INVERSA\n",
        "M_inv = A9[:,3:]\n",
        "print(M_inv)"
      ],
      "execution_count": null,
      "outputs": [
        {
          "output_type": "stream",
          "text": [
            "[[-2.  1. -1.]\n",
            " [-3.  1. -2.]\n",
            " [-6.  2. -5.]]\n"
          ],
          "name": "stdout"
        }
      ]
    },
    {
      "cell_type": "code",
      "metadata": {
        "colab": {
          "base_uri": "https://localhost:8080/"
        },
        "id": "c_lpg-1z_Bm0",
        "outputId": "899c993d-2c42-445e-ff20-c064dcc49405"
      },
      "source": [
        "# El producto de M_inv @ M = I \n",
        "result = M_inv @ M\n",
        "print(result)"
      ],
      "execution_count": null,
      "outputs": [
        {
          "output_type": "stream",
          "text": [
            "[[ 1.00000000e+00 -8.88178420e-16  4.44089210e-16]\n",
            " [-3.33066907e-16  1.00000000e+00  0.00000000e+00]\n",
            " [-6.66133815e-16  0.00000000e+00  1.00000000e+00]]\n"
          ],
          "name": "stdout"
        }
      ]
    },
    {
      "cell_type": "code",
      "metadata": {
        "colab": {
          "base_uri": "https://localhost:8080/"
        },
        "id": "vP96X-72_EAx",
        "outputId": "9915ad0f-e36d-4edb-e19d-8b16009a2d55"
      },
      "source": [
        "# Checamos la inversa de M con la función 'la.inv(M)'\n",
        "la.inv(M)"
      ],
      "execution_count": null,
      "outputs": [
        {
          "output_type": "execute_result",
          "data": {
            "text/plain": [
              "array([[-2.,  1., -1.],\n",
              "       [-3.,  1., -2.],\n",
              "       [-6.,  2., -5.]])"
            ]
          },
          "metadata": {
            "tags": []
          },
          "execution_count": 32
        }
      ]
    },
    {
      "cell_type": "code",
      "metadata": {
        "colab": {
          "base_uri": "https://localhost:8080/"
        },
        "id": "jSDKfuPb_f6D",
        "outputId": "c2bf2e3e-7df7-45b3-fd7d-f04d5149c4c6"
      },
      "source": [
        "# definimos b. Recordemos que tenemos que usar la función .reshape()\n",
        "b = np.array([1,5,0]).reshape(3,1)\n",
        "print(b)"
      ],
      "execution_count": null,
      "outputs": [
        {
          "output_type": "stream",
          "text": [
            "[[1]\n",
            " [5]\n",
            " [0]]\n"
          ],
          "name": "stdout"
        }
      ]
    },
    {
      "cell_type": "code",
      "metadata": {
        "colab": {
          "base_uri": "https://localhost:8080/"
        },
        "id": "NR2Npu8c_HOu",
        "outputId": "56bd5921-b835-45c2-bc33-6cf8d7a24318"
      },
      "source": [
        "# La solución es:\n",
        "x = M_inv @ b\n",
        "\n",
        "print(x)"
      ],
      "execution_count": null,
      "outputs": [
        {
          "output_type": "stream",
          "text": [
            "[[3.]\n",
            " [2.]\n",
            " [4.]]\n"
          ],
          "name": "stdout"
        }
      ]
    },
    {
      "cell_type": "code",
      "metadata": {
        "colab": {
          "base_uri": "https://localhost:8080/"
        },
        "id": "CdWu_IYD_jUD",
        "outputId": "af89239c-8849-44be-e44f-cb7ecde2d670"
      },
      "source": [
        "# Resolviendo el sistema de ecuaciones usando scipy.linalg.solve\n",
        "x_sol = la.solve(M, b)\n",
        "print(x_sol)"
      ],
      "execution_count": null,
      "outputs": [
        {
          "output_type": "stream",
          "text": [
            "[[3.]\n",
            " [2.]\n",
            " [4.]]\n"
          ],
          "name": "stdout"
        }
      ]
    },
    {
      "cell_type": "markdown",
      "metadata": {
        "id": "gm0MIPetANj1"
      },
      "source": [
        "\n",
        "\n",
        "**Ejercicio 4:**\n",
        "\n",
        "Dadas las siguientes matrices $B_1, B_2$ y $B_3$\n",
        "\n",
        "(Ejemplos del artículo de Wikipedia sobre Eigenvalores y Eigenvectores)\n",
        "$$\\begin{equation*} B_1 = \\begin{bmatrix} 2 &  0 &  0 \\\\ 0 &  3 &  4 \\\\ 0 &  4 &  9 \\\\ \\end{bmatrix} \\end{equation*}$$$$\\begin{equation*} B_2 = \\begin{bmatrix} 0 &  1 &  0 \\\\ 0 &  0 &  1 \\\\ 1 &  0 &  0 \\\\ \\end{bmatrix} \\end{equation*}$$$$\\begin{equation*} B_3 = \\begin{bmatrix} 2 &  0 &  0 &  0\\\\ 1 &  2 &  0 &  0 \\\\ 0 &  1 &  3 &  0 \\\\ 0 &  0 &  1 &  3 \\\\ \\end{bmatrix} \\end{equation*}$$\n",
        "\n",
        "Encuentra los eigenvalores y eigenvectores de cada matriz utilizando la función de scipy.linalg.eig(), y contrasta tus resultados en cada caso con los que se desarrollan en los ejemplos de la Wikipedia.\n"
      ]
    },
    {
      "cell_type": "code",
      "metadata": {
        "colab": {
          "base_uri": "https://localhost:8080/"
        },
        "id": "0r0HAC4rAsEc",
        "outputId": "08309736-b213-41a9-f4c4-2d2c0dcf2671"
      },
      "source": [
        "B1 =np.array([[2,0,0],\n",
        "              [0,3,4],\n",
        "              [0,4,9]])\n",
        "#SE DEFINE LA MATRIZ B1\n",
        "\n",
        "print(\"Matriz B1\")\n",
        "print(B1)\n",
        "\n",
        "eigvalsB1, eigvecsB1 = la.eig(B1)\n",
        "#SE SACAN LOS VALORES DE EIGENVECTORES Y EIGENVALORES\n",
        "\n",
        "print()\n",
        "print('Eigenvalores:', eigvalsB1)\n",
        "print()\n",
        "\n",
        "v1 = eigvecsB1[:,0]\n",
        "v2 = eigvecsB1[:,1]\n",
        "v3 = eigvecsB1[:,2]\n",
        "print('v1=',v1)\n",
        "print('v2=',v2)\n",
        "print('v3=',v3)"
      ],
      "execution_count": null,
      "outputs": [
        {
          "output_type": "stream",
          "text": [
            "Matriz B1\n",
            "[[2 0 0]\n",
            " [0 3 4]\n",
            " [0 4 9]]\n",
            "\n",
            "Eigenvalores: [11.+0.j  1.+0.j  2.+0.j]\n",
            "\n",
            "v1= [0.         0.4472136  0.89442719]\n",
            "v2= [ 0.          0.89442719 -0.4472136 ]\n",
            "v3= [1. 0. 0.]\n"
          ],
          "name": "stdout"
        }
      ]
    },
    {
      "cell_type": "code",
      "metadata": {
        "colab": {
          "base_uri": "https://localhost:8080/"
        },
        "id": "0p4IvY2pA1WK",
        "outputId": "f33c5443-248d-47ab-9e67-c50502e20714"
      },
      "source": [
        "B2 =np.array([[0,1,0],\n",
        "              [0,0,1],\n",
        "              [1,0,0]])\n",
        "#SE DEFINE LA MATRIZ B2\n",
        "\n",
        "print(\"Matriz B2\")\n",
        "print(B2)\n",
        "\n",
        "eigvalsB2, eigvecsB2 = la.eig(B2)\n",
        "#SE SACAN LOS VALORES DE EIGENVECTORES Y EIGENVALORES\n",
        "\n",
        "print()\n",
        "print('Eigenvalores:', eigvalsB2)\n",
        "print()\n",
        "\n",
        "v1 = eigvecsB2[:,0]\n",
        "v2 = eigvecsB2[:,1]\n",
        "v3 = eigvecsB2[:,2]\n",
        "print('v1=',v1)\n",
        "print('v2=',v2)\n",
        "print('v3=',v3)"
      ],
      "execution_count": null,
      "outputs": [
        {
          "output_type": "stream",
          "text": [
            "Matriz B2\n",
            "[[0 1 0]\n",
            " [0 0 1]\n",
            " [1 0 0]]\n",
            "\n",
            "Eigenvalores: [-0.5+0.8660254j -0.5-0.8660254j  1. +0.j       ]\n",
            "\n",
            "v1= [ 0.57735027+0.j  -0.28867513+0.5j -0.28867513-0.5j]\n",
            "v2= [ 0.57735027-0.j  -0.28867513-0.5j -0.28867513+0.5j]\n",
            "v3= [-0.57735027+0.j -0.57735027+0.j -0.57735027+0.j]\n"
          ],
          "name": "stdout"
        }
      ]
    },
    {
      "cell_type": "code",
      "metadata": {
        "colab": {
          "base_uri": "https://localhost:8080/"
        },
        "id": "BH6vhs2dA3ob",
        "outputId": "db7d0431-7a52-4bd9-86d4-255dad03252b"
      },
      "source": [
        "B3 =np.array([[2,0,0,0],\n",
        "              [1,2,0,0],\n",
        "              [0,1,3,0],\n",
        "              [0,0,1,3]])\n",
        "#SE DEFINE LA MATRIZ B3\n",
        "\n",
        "print(\"Matriz B2\")\n",
        "print(B3)\n",
        "\n",
        "eigvalsB3, eigvecsB3 = la.eig(B3)\n",
        "#SE SACAN LOS VALORES DE EIGENVECTORES Y EIGENVALORES\n",
        "\n",
        "print()\n",
        "print('Eigenvalores:', eigvalsB3)\n",
        "print()\n",
        "\n",
        "v1 = eigvecsB3[:,0]\n",
        "v2 = eigvecsB3[:,1]\n",
        "v3 = eigvecsB3[:,2]\n",
        "v4 = eigvecsB3[:,3]\n",
        "print('v1=',v1)\n",
        "print('v2=',v2)\n",
        "print('v3=',v3)\n",
        "print('v4=',v4)"
      ],
      "execution_count": null,
      "outputs": [
        {
          "output_type": "stream",
          "text": [
            "Matriz B2\n",
            "[[2 0 0 0]\n",
            " [1 2 0 0]\n",
            " [0 1 3 0]\n",
            " [0 0 1 3]]\n",
            "\n",
            "Eigenvalores: [3.+0.j 3.+0.j 2.+0.j 2.+0.j]\n",
            "\n",
            "v1= [0. 0. 0. 1.]\n",
            "v2= [ 0.00000000e+00  0.00000000e+00  6.66133815e-16 -1.00000000e+00]\n",
            "v3= [ 0.          0.57735027 -0.57735027  0.57735027]\n",
            "v4= [ 2.56395025e-16 -5.77350269e-01  5.77350269e-01 -5.77350269e-01]\n"
          ],
          "name": "stdout"
        }
      ]
    },
    {
      "cell_type": "markdown",
      "metadata": {
        "id": "5imGdjOUBEqq"
      },
      "source": [
        "Ejercicio 5. Se tienen los siguientes 8 puntos:\n",
        "$$\\begin{eqnarray*} (x&,&y) \\space \\space \\space \\space \\space \\space \\space \\space \\space \\space \\space \\space \\space \\space \\space (1) \\\\ (0.0 &,& 0.0), \\space \\space \\space \\space \\space \\space \\space \\space \\space \\space (2)\\\\ (0.5 &,& 0.47942), \\space \\space (3)\\\\ (1.0 &,& 0.84147), \\space \\space (4)\\\\ (1.5 &,& 0.99749), \\space \\space (5)\\\\ (2.0 &,& 0.90930), \\space \\space (6)\\\\ (2.5 &,& 0.59847), \\space \\space (7)\\\\ (3.0 &,& 0.14112), \\space \\space (8)\\\\ (3.5 &,& -0.35078) \\space (9)\\\\ \\end{eqnarray*}$$\n",
        "\n",
        "Encuentre un polinomio interpolante $p(x)$ que pase por los 8 puntos.\n",
        "\n",
        "Sobreponga la función $y=\\sin(x)$ y contrástela con el polinomio $p(x)$."
      ]
    },
    {
      "cell_type": "code",
      "metadata": {
        "colab": {
          "base_uri": "https://localhost:8080/",
          "height": 295
        },
        "id": "68NMvlP5A-LV",
        "outputId": "514f6fe3-f18f-4c1f-acbe-a37086ec0d09"
      },
      "source": [
        "N = np.array([[0.0, 0.0], \n",
        "               [0.5, 0.47942], \n",
        "               [1.0 , 0.84147],\n",
        "               [1.5 , 0.99749],\n",
        "               [2.0 , 0.90930],\n",
        "               [2.5 , 0.59847],\n",
        "               [3.0 , 0.14112],\n",
        "               [3.5 ,-0.35078]])\n",
        "#ARRAY, ARREGLO DE PUNTOS ( X, Y)\n",
        "\n",
        "i = 0 #COLUMNA QUE QUEREMOS OBTENER 1\n",
        "j = 1 #cOLUMNA QUE QUEREMOS OBTENER 2\n",
        "x = [fila[i] for fila in N]\n",
        "y = [fila[j] for fila in N]\n",
        "x = np.array(x)\n",
        "y= np.array(y)\n",
        "\n",
        "plt.plot(x,y,'r.')\n",
        "plt.grid()\n",
        "plt.title('Puntos aleatorios que deseamos interpolar')\n",
        "plt.xlabel('x')\n",
        "plt.ylabel('y')\n",
        "plt.show()"
      ],
      "execution_count": null,
      "outputs": [
        {
          "output_type": "display_data",
          "data": {
            "image/png": "[encoded data removed]",
            "text/plain": [
              "<Figure size 432x288 with 1 Axes>"
            ]
          },
          "metadata": {
            "tags": [],
            "needs_background": "light"
          }
        }
      ]
    },
    {
      "cell_type": "code",
      "metadata": {
        "colab": {
          "base_uri": "https://localhost:8080/"
        },
        "id": "wGUdd3lyCHNt",
        "outputId": "06001b6d-8abf-47e7-894b-416e459d738b"
      },
      "source": [
        "# La biblioteca Numpy tambien tiene una función para crear la matriz de Vandermonde\n",
        "X = np.vander(x,increasing=True)\n",
        "# Sólo imprimimos los primeros 5 renglones y columnas.\n",
        "print(X[:5,:5])"
      ],
      "execution_count": null,
      "outputs": [
        {
          "output_type": "stream",
          "text": [
            "[[ 1.      0.      0.      0.      0.    ]\n",
            " [ 1.      0.5     0.25    0.125   0.0625]\n",
            " [ 1.      1.      1.      1.      1.    ]\n",
            " [ 1.      1.5     2.25    3.375   5.0625]\n",
            " [ 1.      2.      4.      8.     16.    ]]\n"
          ],
          "name": "stdout"
        }
      ]
    },
    {
      "cell_type": "code",
      "metadata": {
        "colab": {
          "base_uri": "https://localhost:8080/"
        },
        "id": "WQ-kXOijCIOA",
        "outputId": "08ecb849-5b0b-46bf-a580-6bad74275ac5"
      },
      "source": [
        "# USAMOS LA FUNCION DE  scipy.linalg.solve(), PARA ENCONTRAR LOS 8 COEFICIENTES\n",
        "# DE LA ECUACION LINEAL Xa=y\n",
        "a = la.solve(X,y)\n",
        "print(a)"
      ],
      "execution_count": null,
      "outputs": [
        {
          "output_type": "stream",
          "text": [
            "[ 0.00000000e+00  1.00067181e+00 -3.70788889e-03 -1.58867889e-01\n",
            " -8.30222222e-03  1.31964444e-02 -1.54488889e-03  2.46349206e-05]\n"
          ],
          "name": "stdout"
        }
      ]
    },
    {
      "cell_type": "code",
      "metadata": {
        "colab": {
          "base_uri": "https://localhost:8080/",
          "height": 295
        },
        "id": "vrW2_njSCJyo",
        "outputId": "7acc1cf2-7b71-4703-af80-b3c5c9d7fe3c"
      },
      "source": [
        "# Graficamos el polinomio interpolante y los puntos interpolados\n",
        "# Los puntos interpolados en rojo ('r.')\n",
        "xs = np.linspace(0,8-1,200)\n",
        "ys = sum([a[k]*xs**k for k in range(0,8)])\n",
        "plt.plot(x,y,'r.',xs,ys);\n",
        "plt.plot(x,np.sin(x),\"g\")\n",
        "plt.grid()\n",
        "plt.title('Polinomio interpolante p(x)')\n",
        "plt.xlabel('x')\n",
        "plt.ylabel('y')\n",
        "plt.show()"
      ],
      "execution_count": null,
      "outputs": [
        {
          "output_type": "display_data",
          "data": {
            "image/png": "[encoded data removed]",
            "text/plain": [
              "<Figure size 432x288 with 1 Axes>"
            ]
          },
          "metadata": {
            "tags": [],
            "needs_background": "light"
          }
        }
      ]
    },
    {
      "cell_type": "markdown",
      "metadata": {
        "id": "Q0K5l6onCRCx"
      },
      "source": [
        "Ejercicio 6. Regrese a su modelo de análisis de series de tiempo. Haga una descomposición de su serie de tiempo de las temperaturas (Tmax y Tmin), y realice una regresión lineal sobre la serie de Tendencia de Temp $(T = a_0 + a_1 t)$. Encuentre si la pendiente es positiva o negativa de la tendencia (signo de $a_1$), es decir si las Temperaturas (Tmax, Tmin) están subiendo o bajando en el periodo analizado."
      ]
    },
    {
      "cell_type": "code",
      "metadata": {
        "id": "9cJqFNX0COAi"
      },
      "source": [
        ""
      ],
      "execution_count": null,
      "outputs": []
    }
  ]
}