{
  "nbformat": 4,
  "nbformat_minor": 0,
  "metadata": {
    "colab": {
      "name": "Actividad2.ipynb",
      "provenance": [],
      "authorship_tag": "ABX9TyPnfu+0LCF03LuJZ3cmHBoQ",
      "include_colab_link": true
    },
    "kernelspec": {
      "name": "python3",
      "display_name": "Python 3"
    }
  },
  "cells": [
    {
      "cell_type": "markdown",
      "metadata": {
        "id": "view-in-github",
        "colab_type": "text"
      },
      "source": [
        "<a href=\"https://colab.research.google.com/github/PaulMRivera/Computational_physics/blob/master/Computational_physics/Activity_2/Actividad2.ipynb\" target=\"_parent\"><img src=\"https://colab.research.google.com/assets/colab-badge.svg\" alt=\"Open In Colab\"/></a>"
      ]
    },
    {
      "cell_type": "markdown",
      "metadata": {
        "id": "52NBtjuZlcv1"
      },
      "source": [
        "El área de un circulo se calcula con la formula:\r\n",
        "\\\r\n",
        "$A=\\pi r^2$\r\n",
        "\\\r\n",
        "Donde:\r\n",
        "\\\r\n",
        "$r_M$ es el radio mayor\r\n",
        "\\\r\n",
        "Dado que $\\pi$ es una constante, el programa\r\n",
        "\\\r\n",
        "solo es necesario el valor del radio\r\n"
      ]
    },
    {
      "cell_type": "code",
      "metadata": {
        "id": "MY7T2AmHX9RN"
      },
      "source": [
        "# Se define una función de una variables para calcular el área.  \r\n",
        "import numpy as np\r\n",
        "\r\n",
        "def C_Area(r):\r\n",
        "    return np.pi*r**2\r\n",
        "\r\n",
        "print(\"Proporciona el radio del circulo : \", end=\"\")\r\n",
        "r = float(input())\r\n",
        "a = C_Area(r)\r\n",
        "# Imprime el valor del área en formato libre.\r\n",
        "print(\"\\nArea = \", a)\r\n",
        "# Imprime el valor del área con 2 decimales. \r\n",
        "print(\"\\nArea = {:.2f}\".format(a))\r\n",
        "#pruebas\r\n",
        "#print(np.pi)"
      ],
      "execution_count": null,
      "outputs": []
    },
    {
      "cell_type": "markdown",
      "metadata": {
        "id": "K1xlIEtdkRaU"
      },
      "source": [
        "El área de una elipse se calcula con la formula:\r\n",
        "\\\r\n",
        "$A=\\pi r_M r_m$\r\n",
        "\\\r\n",
        "Donde:\r\n",
        "\\\r\n",
        "$r_M$ es el radio mayor\r\n",
        "\\\r\n",
        "$r_m$ es el radio menor\r\n",
        "\\\r\n",
        "Dado que $\\pi$ es una constante, el programa\r\n",
        "\\\r\n",
        "solo es necesario el valor de los radios"
      ]
    },
    {
      "cell_type": "code",
      "metadata": {
        "id": "CHRfWxZFY-CA"
      },
      "source": [
        "# Se define una función de una variables para calcular el área.  \r\n",
        "import numpy as np\r\n",
        "def E_Area(r1,r2):\r\n",
        "    return np.pi*r2**r1\r\n",
        "\r\n",
        "print(\"Proporciona el radio del circulo : \", end=\"\")\r\n",
        "r1 = float(input())\r\n",
        "r2 = float(input())\r\n",
        "a = E_Area(r1,r2)\r\n",
        "# Imprime el valor del área en formato libre.\r\n",
        "print(\"\\nArea = \", a)\r\n",
        "# Imprime el valor del área con 2 decimales. \r\n",
        "print(\"\\nArea = {:.2f}\".format(a))"
      ],
      "execution_count": null,
      "outputs": []
    },
    {
      "cell_type": "markdown",
      "metadata": {
        "id": "5AZUacJAml4R"
      },
      "source": [
        "El volumen de una esfera se calcula con la formula:\r\n",
        "\\\r\n",
        "$V=\\frac{4 \\pi r^3}{3}$\r\n",
        "\\\r\n",
        "Donde:\r\n",
        "\\\r\n",
        "$r$ es el radio\r\n",
        "\\\r\n",
        "Dado que $\\pi$ es una constante, el programa\r\n",
        "\\\r\n",
        "solo es necesario el valor de los radios"
      ]
    },
    {
      "cell_type": "code",
      "metadata": {
        "id": "e66MVDfyeGXx"
      },
      "source": [
        "# Se define una función de una variables para calcular el Volumen.  \r\n",
        "import numpy as np\r\n",
        "def E_Vol(r):\r\n",
        "    return 4/3*np.pi*r**3\r\n",
        "\r\n",
        "print(\"Proporciona el radio del circulo : \", end=\"\")\r\n",
        "r = float(input())\r\n",
        "a = E_Vol(r)\r\n",
        "# Imprime el valor del volumen en formato libre.\r\n",
        "print(\"\\nVolumen = \", a)\r\n",
        "# Imprime el valor del volumen con 2 decimales. \r\n",
        "print(\"\\nVolumen = {:.2f}\".format(a))"
      ],
      "execution_count": null,
      "outputs": []
    },
    {
      "cell_type": "markdown",
      "metadata": {
        "id": "CWUA2EdLsfs0"
      },
      "source": [
        "El volumen de un cilindro se calcula con la formula:\r\n",
        "\\\r\n",
        "$V=\\pi r^2 h$\r\n",
        "\\\r\n",
        "Donde:\r\n",
        "\\\r\n",
        "$r$ es el radio\r\n",
        "\\\r\n",
        "$h$ es la altura"
      ]
    },
    {
      "cell_type": "code",
      "metadata": {
        "id": "cl2G9l0mhr1Q"
      },
      "source": [
        "# Se define una función de una variables para calcular el volumen.  \r\n",
        "import numpy as np\r\n",
        "def C_Vol(r,l):\r\n",
        "    return np.pi*r**2*l\r\n",
        "\r\n",
        "print(\"Proporciona el radio y la altura del cilindro : \", end=\"\")\r\n",
        "r = float(input())\r\n",
        "l = float(input())\r\n",
        "a = C_Vol(r,l)\r\n",
        "# Imprime el valor del volumen en formato libre.\r\n",
        "print(\"\\nVolumen = \", a)\r\n",
        "# Imprime el valor del volumen con 2 decimales. \r\n",
        "print(\"\\nVolumen = {:.2f}\".format(a))"
      ],
      "execution_count": null,
      "outputs": []
    },
    {
      "cell_type": "markdown",
      "metadata": {
        "id": "OdLViRD-wrxs"
      },
      "source": [
        "Calculo de las raices de una exprecion cuadratica\r\n",
        "\\\r\n",
        "$Ax^2+Bx+C=0$"
      ]
    },
    {
      "cell_type": "code",
      "metadata": {
        "id": "Vynnc0EplU2v"
      },
      "source": [
        "import numpy as np  \r\n",
        "\r\n",
        "#obtcion de variables\r\n",
        "print(\"Proporciona coeficientes, en esta forma Ax2+Bx+C=0 : \", end=\"\")\r\n",
        "a = float(input())\r\n",
        "b = float(input())\r\n",
        "c = float(input())\r\n",
        "\r\n",
        "#calculo del determiante, para saber si las raices son rales o complejas\r\n",
        "D = b**2-4*a*c\r\n",
        "\r\n",
        "#procedimiento con raices reales\r\n",
        "if D>=0:\r\n",
        "  x1= (-b+np.sqrt(b**2-4*a*c))/(2*a)\r\n",
        "  x2= (-b-np.sqrt(b**2-4*a*c))/(2*a)\r\n",
        "  # Imprime el valor de las raices en formato libre.\r\n",
        "  print(\"\\nx1 = \", x1)\r\n",
        "  print(\"\\nx2 = \", x2)\r\n",
        "  # Imprime el valor de las raices con 2 decimales.\r\n",
        "  print(\"\\nx1 = {:.2f}\".format(x1))\r\n",
        "  print(\"\\nx2 = {:.2f}\".format(x2))\r\n",
        "\r\n",
        "#procedimiento con raices complejas\r\n",
        "elif D<0:\r\n",
        "  x1 = complex(-b/(2*a),np.sqrt(-b**2+4*a*c)/(2*a))\r\n",
        "  x2 = complex(-b/(2*a),-np.sqrt(-b**2+4*a*c)/(2*a))\r\n",
        "  # Imprime el valor de las raices en formato libre.\r\n",
        "  print(\"\\nx1 = \", x1)\r\n",
        "  print(\"\\nx2 = \", x2)\r\n",
        "  # Imprime el valor de las raices con 2 decimales.\r\n",
        "  print(\"\\nx1 = {:.2f}\".format(x1))\r\n",
        "  print(\"\\nx2 = {:.2f}\".format(x2))\r\n"
      ],
      "execution_count": null,
      "outputs": []
    },
    {
      "cell_type": "markdown",
      "metadata": {
        "id": "88VKQprIM0nB"
      },
      "source": [
        "Raíz cuadrada mediante el método Babilonio"
      ]
    },
    {
      "cell_type": "code",
      "metadata": {
        "id": "ppVzjB3voyQu"
      },
      "source": [
        "import numpy as np\r\n",
        "\r\n",
        "def sqrt_mB(n):\r\n",
        "\r\n",
        "#Respuestas en caso de poner datos que probo  quen error en el procedimiento\r\n",
        "    if n < 0:\r\n",
        "       return print ( \"No se puede con números negativos\" )\r\n",
        "\r\n",
        "    if n == 0:\r\n",
        "       return print ( \"La raíz es igual a cero\" )\r\n",
        "\r\n",
        "#procedimiento\r\n",
        "    else:\r\n",
        "         x = 2.0\r\n",
        "         cociente = n / x\r\n",
        "         promedio = (x + cociente) / 2.0\r\n",
        "\r\n",
        "         while abs(cociente - promedio) > 0.01:\r\n",
        "\r\n",
        "                x = promedio\r\n",
        "                cociente = n / x\r\n",
        "                promedio = (x + cociente) / 2.0\r\n",
        "\r\n",
        "         return promedio\r\n",
        "\r\n",
        "print(\"Ingrese el número que se quiere sacar su raíz cuadrada\")\r\n",
        "\r\n",
        "N = float(input())\r\n",
        "\r\n",
        "print ( \"Aproximación con el método Babilonio:\", sqrt_mB(N) )\r\n",
        "print ( \"Valor real de la raíz\", np.sqrt(N) )"
      ],
      "execution_count": null,
      "outputs": []
    },
    {
      "cell_type": "markdown",
      "metadata": {
        "id": "9agh4M1cyUQL"
      },
      "source": [
        "Implementación de codigo phyton pora la elaboracion de una grafica"
      ]
    },
    {
      "cell_type": "code",
      "metadata": {
        "id": "9a-3YDaMMzPJ"
      },
      "source": [
        "# Cargar la subbiblioteca pytlot de Matplotlib \r\n",
        "\r\n",
        "import matplotlib.pyplot as plt\r\n",
        "import math \r\n",
        "import numpy as np  \r\n",
        "\r\n",
        "# Gráfica de funciones\r\n",
        "# Definición de variables y funciones\r\n",
        "\r\n",
        "x = np.linspace(-np.pi,np.pi,100)  # arrego de 100 puntos entre -pi y pi\r\n",
        "\r\n",
        "y = np.log(1+x)     \r\n",
        "\r\n",
        "sT4 = x -x**2/2 +x**3/3 -x**4/4\r\n",
        "\r\n",
        "sT7 = x -x**2/2 +x**3/3 -x**4/4 + x**5/5 -x**6/6 +x**7/7\r\n",
        "\r\n",
        "sT11 = x -x**2/2 +x**3/3 -x**4/4 + x**5/5 -x**6/6 +x**7/7 -x**8/8 +x**9/9 -x**10/10 +x**11/11 \r\n",
        "\r\n",
        "sT16 = x -x**2/2 +x**3/3 -x**4/4 + x**5/5 -x**6/6 +x**7/7 -x**8/8 +x**9/9 -x**10/10 +x**11/11 -x**12/12 +x**13/13 -x**14/14 +x**15/15 -x**16/16 # Serie de Taylor de sin(x) a 5o. Orden.\r\n",
        "\r\n",
        " \r\n",
        "\r\n",
        "# Creación de la gráficas\r\n",
        "\r\n",
        "plt.subplot(121)\r\n",
        "\r\n",
        "  #plt.xlabel(\"X label\")\r\n",
        "\r\n",
        "  #plt.ylabel(\"Y label\")\r\n",
        "\r\n",
        "  #plt.title(\"Title\")\r\n",
        "\r\n",
        "\r\n",
        "# Graficar varias funciones\r\n",
        "\r\n",
        "plt.plot(x,sT4, label='T4', color= \"r\")\r\n",
        "\r\n",
        "plt.plot(x,sT7, label='T7', color= \"g\")\r\n",
        "\r\n",
        "plt.plot(x,sT11, label='T11', color= \"b\")\r\n",
        "\r\n",
        "plt.plot(x,sT16, label='T16', color= \"c\")\r\n",
        "\r\n",
        "plt.plot(x,y, label=\"log(1+x)\", color= \"orange\")\r\n",
        "\r\n",
        "# Agregar una malla\r\n",
        "\r\n",
        "plt.grid(True)\r\n",
        "\r\n",
        "plt.axis([-1.5, 1.5, -4, 2], emit=True)\r\n",
        "\r\n",
        "# Fijar los límites en el eje Y.\r\n",
        "\r\n",
        "plt.ylim(-4, 2)\r\n",
        "\r\n",
        "plt.xlim(-1.5, 1.5)\r\n",
        "\r\n",
        "# Ubicación de las etiquetas de las funciones\r\n",
        "\r\n",
        "  #plt.legend(bbox_to_anchor=(1,1), loc=\"upper left\")\r\n",
        "plt.legend(loc='upper left')\r\n",
        "\r\n",
        "plt.show()\r\n"
      ],
      "execution_count": null,
      "outputs": []
    },
    {
      "cell_type": "code",
      "metadata": {
        "id": "Y2DpulR8RDdL"
      },
      "source": [
        ""
      ],
      "execution_count": null,
      "outputs": []
    }
  ]
}